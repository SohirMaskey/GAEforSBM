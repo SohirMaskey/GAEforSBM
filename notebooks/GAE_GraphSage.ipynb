{
 "cells": [
  {
   "cell_type": "code",
   "execution_count": 1,
   "id": "2a51fdfb",
   "metadata": {},
   "outputs": [],
   "source": [
    "import numpy as np\n",
    "import os"
   ]
  },
  {
   "cell_type": "code",
   "execution_count": 2,
   "id": "d94b519c",
   "metadata": {},
   "outputs": [],
   "source": [
    "import torch\n",
    "from torch_geometric.utils import (negative_sampling, remove_self_loops,\n",
    "                                   add_self_loops)"
   ]
  },
  {
   "cell_type": "code",
   "execution_count": 3,
   "id": "bbb5a439",
   "metadata": {},
   "outputs": [],
   "source": [
    "import os.path as osp"
   ]
  },
  {
   "cell_type": "code",
   "execution_count": 4,
   "id": "a086e4ae",
   "metadata": {},
   "outputs": [],
   "source": [
    "N = 1000"
   ]
  },
  {
   "cell_type": "code",
   "execution_count": 5,
   "id": "528ae469",
   "metadata": {},
   "outputs": [],
   "source": [
    "from torch_geometric.nn import SAGEConv\n",
    "from torch_geometric.nn import GAE"
   ]
  },
  {
   "cell_type": "code",
   "execution_count": 6,
   "id": "5c016372",
   "metadata": {},
   "outputs": [],
   "source": [
    "import torch"
   ]
  },
  {
   "cell_type": "code",
   "execution_count": 7,
   "id": "3988cf2d",
   "metadata": {},
   "outputs": [],
   "source": [
    "graph = torch.load(osp.join('../input/', 'RGG_1000nodes.pt'))"
   ]
  },
  {
   "cell_type": "code",
   "execution_count": 8,
   "id": "942c1e01",
   "metadata": {},
   "outputs": [],
   "source": [
    "gS = SAGEConv(graph.num_node_features, 2, root_weight=False, bias=False)"
   ]
  },
  {
   "cell_type": "code",
   "execution_count": 9,
   "id": "50310596",
   "metadata": {},
   "outputs": [],
   "source": [
    "class DistanceDecoder(torch.nn.Module):\n",
    "    r\"\"\"The inner product decoder from the `\"Variational Graph Auto-Encoders\"\n",
    "    <https://arxiv.org/abs/1611.07308>`_ paper\n",
    "\n",
    "    .. math::\n",
    "        \\sigma(\\mathbf{Z}\\mathbf{Z}^{\\top})\n",
    "\n",
    "    where :math:`\\mathbf{Z} \\in \\mathbb{R}^{N \\times d}` denotes the latent\n",
    "    space produced by the encoder.\"\"\"\n",
    "\n",
    "    def forward(self, z, edge_index, sigmoid=False):\n",
    "        r\"\"\"Decodes the latent variables :obj:`z` into edge probabilities for\n",
    "        the given node-pairs :obj:`edge_index`.\n",
    "\n",
    "        Args:\n",
    "            z (Tensor): The latent space :math:`\\mathbf{Z}`.\n",
    "            sigmoid (bool, optional): If set to :obj:`False`, does not apply\n",
    "                the logistic sigmoid function to the output.\n",
    "                (default: :obj:`True`)\n",
    "        \"\"\"\n",
    "        #value = torch.sqrt(torch.pow(z[edge_index[0]] - z[edge_index[1]],2).sum(dim=1))\n",
    "        value = torch.norm(z[edge_index[0]] - z[edge_index[1]], dim=1)\n",
    "        return torch.sigmoid(value) if sigmoid else value\n",
    "\n",
    "    def forward_all(self, z, sigmoid=True):\n",
    "        r\"\"\"Decodes the latent variables :obj:`z` into a probabilistic dense\n",
    "        adjacency matrix.\n",
    "\n",
    "        Args:\n",
    "            z (Tensor): The latent space :math:`\\mathbf{Z}`.\n",
    "            sigmoid (bool, optional): If set to :obj:`False`, does not apply\n",
    "                the logistic sigmoid function to the output.\n",
    "                (default: :obj:`True`)\n",
    "        \"\"\"\n",
    "        adj = torch.matmul(z, z.t())\n",
    "        return torch.sigmoid(adj) if sigmoid else adj"
   ]
  },
  {
   "cell_type": "code",
   "execution_count": 10,
   "id": "266258f6",
   "metadata": {},
   "outputs": [],
   "source": [
    "GAESage = GAE(gS, DistanceDecoder())"
   ]
  },
  {
   "cell_type": "code",
   "execution_count": 11,
   "id": "586c8f7d",
   "metadata": {},
   "outputs": [],
   "source": [
    "#gS = SAGEConv()\n",
    "#GAESage.load_state_dict(torch.load( '../models/GAESage'))"
   ]
  },
  {
   "cell_type": "code",
   "execution_count": 12,
   "id": "4bc53357",
   "metadata": {},
   "outputs": [],
   "source": [
    "message = GAESage.encode(graph.x, graph.edge_index.type(torch.LongTensor))"
   ]
  },
  {
   "cell_type": "code",
   "execution_count": 13,
   "id": "09ef3eaa",
   "metadata": {},
   "outputs": [],
   "source": [
    "messagenp = message.cpu().detach().numpy()"
   ]
  },
  {
   "cell_type": "code",
   "execution_count": 14,
   "id": "a1927a15",
   "metadata": {},
   "outputs": [],
   "source": [
    "import matplotlib.pyplot as plt"
   ]
  },
  {
   "cell_type": "code",
   "execution_count": 15,
   "id": "1a9c62b1",
   "metadata": {},
   "outputs": [
    {
     "data": {
      "image/png": "[encoded data removed]",
      "text/plain": [
       "<Figure size 432x288 with 1 Axes>"
      ]
     },
     "metadata": {
      "needs_background": "light"
     },
     "output_type": "display_data"
    }
   ],
   "source": [
    "x = messagenp[:,0]\n",
    "y = messagenp[:,1]\n",
    "colors = graph.block\n",
    "\n",
    "plt.scatter(x, y, c=colors, cmap='viridis')\n",
    "\n",
    "plt.show() "
   ]
  },
  {
   "cell_type": "markdown",
   "id": "bce0a44c",
   "metadata": {},
   "source": [
    "# Training"
   ]
  },
  {
   "cell_type": "code",
   "execution_count": 16,
   "id": "6f2e8300",
   "metadata": {},
   "outputs": [],
   "source": [
    "model = GAESage"
   ]
  },
  {
   "cell_type": "code",
   "execution_count": 17,
   "id": "3a0a72ca",
   "metadata": {},
   "outputs": [],
   "source": [
    "optimizer = torch.optim.Adam(model.parameters(), lr=0.01)"
   ]
  },
  {
   "cell_type": "code",
   "execution_count": 18,
   "id": "4593bbeb",
   "metadata": {},
   "outputs": [
    {
     "name": "stderr",
     "output_type": "stream",
     "text": [
      "/home/math/maskey/anaconda3/envs/pyg_cuda102/lib/python3.8/site-packages/torch_geometric/deprecation.py:13: UserWarning: 'train_test_split_edges' is deprecated, use 'transforms.RandomLinkSplit' instead\n",
      "  warnings.warn(out)\n"
     ]
    }
   ],
   "source": [
    "from torch_geometric.utils import train_test_split_edges\n",
    "data = train_test_split_edges(graph)"
   ]
  },
  {
   "cell_type": "code",
   "execution_count": 19,
   "id": "87d7ac52",
   "metadata": {},
   "outputs": [],
   "source": [
    "def train():\n",
    "    model.train()\n",
    "    optimizer.zero_grad()\n",
    "    z = model.encode(graph.x, train_pos_edge_index)\n",
    "    print(model.decoder(z, train_pos_edge_index))\n",
    "    loss = model.recon_loss(z, train_pos_edge_index)\n",
    "    #if args.variational:\n",
    "    #   loss = loss + (1 / data.num_nodes) * model.kl_loss()\n",
    "    loss.backward()\n",
    "    optimizer.step()\n",
    "    print(loss)\n",
    "    return float(loss)"
   ]
  },
  {
   "cell_type": "code",
   "execution_count": 20,
   "id": "c2c9abd6",
   "metadata": {},
   "outputs": [],
   "source": [
    "def test(pos_edge_index, neg_edge_index):\n",
    "    model.eval()\n",
    "    with torch.no_grad():\n",
    "        z = model.encode(graph.x, train_pos_edge_index)\n",
    "    return model.test(z, pos_edge_index, neg_edge_index)"
   ]
  },
  {
   "cell_type": "code",
   "execution_count": 21,
   "id": "95098ad0",
   "metadata": {},
   "outputs": [],
   "source": [
    "train_pos_edge_index = data.train_pos_edge_index"
   ]
  },
  {
   "cell_type": "code",
   "execution_count": 22,
   "id": "9f447675",
   "metadata": {},
   "outputs": [],
   "source": [
    "EPS = 1e-15"
   ]
  },
  {
   "cell_type": "code",
   "execution_count": 23,
   "id": "d2e587e6",
   "metadata": {},
   "outputs": [
    {
     "data": {
      "text/plain": [
       "Data(block=[1000], num_nodes=1000, x=[1000, 1], pos=[1000, 1], val_pos_edge_index=[2, 2341], test_pos_edge_index=[2, 4683], train_pos_edge_index=[2, 79612], train_neg_adj_mask=[1000, 1000], val_neg_edge_index=[2, 2341], test_neg_edge_index=[2, 4683])"
      ]
     },
     "execution_count": 23,
     "metadata": {},
     "output_type": "execute_result"
    }
   ],
   "source": [
    "data"
   ]
  },
  {
   "cell_type": "code",
   "execution_count": 24,
   "id": "684246a3",
   "metadata": {},
   "outputs": [
    {
     "name": "stdout",
     "output_type": "stream",
     "text": [
      "tensor([0.0002, 0.0005, 0.0008,  ..., 0.0033, 0.0019, 0.0015],\n",
      "       grad_fn=<CopyBackwards>)\n",
      "tensor(1.3878, grad_fn=<AddBackward0>)\n",
      "1.3877758979797363\n",
      "Epoch: 001, AUC: 0.4075, AP: 0.4398\n",
      "tensor([0.0002, 0.0005, 0.0008,  ..., 0.0033, 0.0019, 0.0015],\n",
      "       grad_fn=<CopyBackwards>)\n",
      "tensor(1.3878, grad_fn=<AddBackward0>)\n",
      "1.3877650499343872\n",
      "Epoch: 002, AUC: 0.4075, AP: 0.4398\n",
      "tensor([0.0002, 0.0005, 0.0008,  ..., 0.0032, 0.0018, 0.0015],\n",
      "       grad_fn=<CopyBackwards>)\n",
      "tensor(1.3878, grad_fn=<AddBackward0>)\n",
      "1.3877546787261963\n",
      "Epoch: 003, AUC: 0.4075, AP: 0.4398\n",
      "tensor([0.0002, 0.0004, 0.0008,  ..., 0.0032, 0.0018, 0.0014],\n",
      "       grad_fn=<CopyBackwards>)\n",
      "tensor(1.3877, grad_fn=<AddBackward0>)\n",
      "1.3877294063568115\n",
      "Epoch: 004, AUC: 0.4075, AP: 0.4398\n",
      "tensor([0.0002, 0.0004, 0.0008,  ..., 0.0031, 0.0018, 0.0014],\n",
      "       grad_fn=<CopyBackwards>)\n",
      "tensor(1.3877, grad_fn=<AddBackward0>)\n",
      "1.3876886367797852\n",
      "Epoch: 005, AUC: 0.4075, AP: 0.4398\n",
      "tensor([0.0002, 0.0004, 0.0007,  ..., 0.0031, 0.0017, 0.0014],\n",
      "       grad_fn=<CopyBackwards>)\n",
      "tensor(1.3877, grad_fn=<AddBackward0>)\n",
      "1.3876774311065674\n",
      "Epoch: 006, AUC: 0.4075, AP: 0.4398\n",
      "tensor([0.0002, 0.0004, 0.0007,  ..., 0.0030, 0.0017, 0.0014],\n",
      "       grad_fn=<CopyBackwards>)\n",
      "tensor(1.3876, grad_fn=<AddBackward0>)\n",
      "1.3876476287841797\n",
      "Epoch: 007, AUC: 0.4075, AP: 0.4398\n",
      "tensor([0.0002, 0.0004, 0.0007,  ..., 0.0030, 0.0017, 0.0013],\n",
      "       grad_fn=<CopyBackwards>)\n",
      "tensor(1.3876, grad_fn=<AddBackward0>)\n",
      "1.3876224756240845\n",
      "Epoch: 008, AUC: 0.4075, AP: 0.4398\n",
      "tensor([0.0002, 0.0004, 0.0007,  ..., 0.0029, 0.0017, 0.0013],\n",
      "       grad_fn=<CopyBackwards>)\n",
      "tensor(1.3876, grad_fn=<AddBackward0>)\n",
      "1.3875951766967773\n",
      "Epoch: 009, AUC: 0.4075, AP: 0.4398\n",
      "tensor([0.0002, 0.0004, 0.0007,  ..., 0.0029, 0.0016, 0.0013],\n",
      "       grad_fn=<CopyBackwards>)\n",
      "tensor(1.3876, grad_fn=<AddBackward0>)\n",
      "1.3875616788864136\n",
      "Epoch: 010, AUC: 0.4075, AP: 0.4398\n",
      "tensor([0.0002, 0.0004, 0.0007,  ..., 0.0028, 0.0016, 0.0013],\n",
      "       grad_fn=<CopyBackwards>)\n",
      "tensor(1.3876, grad_fn=<AddBackward0>)\n",
      "1.387563943862915\n",
      "Epoch: 011, AUC: 0.4075, AP: 0.4398\n",
      "tensor([0.0002, 0.0004, 0.0007,  ..., 0.0028, 0.0016, 0.0012],\n",
      "       grad_fn=<CopyBackwards>)\n",
      "tensor(1.3875, grad_fn=<AddBackward0>)\n",
      "1.3875322341918945\n",
      "Epoch: 012, AUC: 0.4075, AP: 0.4398\n",
      "tensor([0.0002, 0.0004, 0.0007,  ..., 0.0027, 0.0015, 0.0012],\n",
      "       grad_fn=<CopyBackwards>)\n",
      "tensor(1.3875, grad_fn=<AddBackward0>)\n",
      "1.3875125646591187\n",
      "Epoch: 013, AUC: 0.4075, AP: 0.4398\n",
      "tensor([0.0002, 0.0004, 0.0007,  ..., 0.0027, 0.0015, 0.0012],\n",
      "       grad_fn=<CopyBackwards>)\n",
      "tensor(1.3875, grad_fn=<AddBackward0>)\n",
      "1.387483835220337\n",
      "Epoch: 014, AUC: 0.4075, AP: 0.4398\n",
      "tensor([0.0002, 0.0004, 0.0006,  ..., 0.0026, 0.0015, 0.0012],\n",
      "       grad_fn=<CopyBackwards>)\n",
      "tensor(1.3875, grad_fn=<AddBackward0>)\n",
      "1.3874754905700684\n",
      "Epoch: 015, AUC: 0.4075, AP: 0.4398\n",
      "tensor([0.0002, 0.0004, 0.0006,  ..., 0.0026, 0.0015, 0.0012],\n",
      "       grad_fn=<CopyBackwards>)\n",
      "tensor(1.3874, grad_fn=<AddBackward0>)\n",
      "1.3874154090881348\n",
      "Epoch: 016, AUC: 0.4075, AP: 0.4398\n",
      "tensor([0.0001, 0.0004, 0.0006,  ..., 0.0025, 0.0014, 0.0011],\n",
      "       grad_fn=<CopyBackwards>)\n",
      "tensor(1.3874, grad_fn=<AddBackward0>)\n",
      "1.3874175548553467\n",
      "Epoch: 017, AUC: 0.4075, AP: 0.4398\n",
      "tensor([0.0001, 0.0003, 0.0006,  ..., 0.0025, 0.0014, 0.0011],\n",
      "       grad_fn=<CopyBackwards>)\n",
      "tensor(1.3874, grad_fn=<AddBackward0>)\n",
      "1.3873932361602783\n",
      "Epoch: 018, AUC: 0.4075, AP: 0.4398\n",
      "tensor([0.0001, 0.0003, 0.0006,  ..., 0.0024, 0.0014, 0.0011],\n",
      "       grad_fn=<CopyBackwards>)\n",
      "tensor(1.3874, grad_fn=<AddBackward0>)\n",
      "1.3873870372772217\n",
      "Epoch: 019, AUC: 0.4075, AP: 0.4398\n",
      "tensor([0.0001, 0.0003, 0.0006,  ..., 0.0024, 0.0014, 0.0011],\n",
      "       grad_fn=<CopyBackwards>)\n",
      "tensor(1.3874, grad_fn=<AddBackward0>)\n",
      "1.387364387512207\n",
      "Epoch: 020, AUC: 0.4075, AP: 0.4398\n",
      "tensor([0.0001, 0.0003, 0.0006,  ..., 0.0024, 0.0013, 0.0011],\n",
      "       grad_fn=<CopyBackwards>)\n",
      "tensor(1.3873, grad_fn=<AddBackward0>)\n",
      "1.387345552444458\n",
      "Epoch: 021, AUC: 0.4075, AP: 0.4398\n",
      "tensor([0.0001, 0.0003, 0.0006,  ..., 0.0023, 0.0013, 0.0010],\n",
      "       grad_fn=<CopyBackwards>)\n",
      "tensor(1.3873, grad_fn=<AddBackward0>)\n",
      "1.3873329162597656\n",
      "Epoch: 022, AUC: 0.4075, AP: 0.4398\n",
      "tensor([0.0001, 0.0003, 0.0006,  ..., 0.0023, 0.0013, 0.0010],\n",
      "       grad_fn=<CopyBackwards>)\n",
      "tensor(1.3873, grad_fn=<AddBackward0>)\n",
      "1.3873035907745361\n",
      "Epoch: 023, AUC: 0.4075, AP: 0.4398\n",
      "tensor([0.0001, 0.0003, 0.0005,  ..., 0.0022, 0.0013, 0.0010],\n",
      "       grad_fn=<CopyBackwards>)\n",
      "tensor(1.3873, grad_fn=<AddBackward0>)\n",
      "1.3873004913330078\n",
      "Epoch: 024, AUC: 0.4075, AP: 0.4398\n",
      "tensor([0.0001, 0.0003, 0.0005,  ..., 0.0022, 0.0012, 0.0010],\n",
      "       grad_fn=<CopyBackwards>)\n",
      "tensor(1.3873, grad_fn=<AddBackward0>)\n",
      "1.3872716426849365\n",
      "Epoch: 025, AUC: 0.4075, AP: 0.4398\n",
      "tensor([0.0001, 0.0003, 0.0005,  ..., 0.0021, 0.0012, 0.0010],\n",
      "       grad_fn=<CopyBackwards>)\n",
      "tensor(1.3872, grad_fn=<AddBackward0>)\n",
      "1.3872253894805908\n",
      "Epoch: 026, AUC: 0.4075, AP: 0.4398\n",
      "tensor([0.0001, 0.0003, 0.0005,  ..., 0.0021, 0.0012, 0.0009],\n",
      "       grad_fn=<CopyBackwards>)\n",
      "tensor(1.3872, grad_fn=<AddBackward0>)\n",
      "1.3872168064117432\n",
      "Epoch: 027, AUC: 0.4075, AP: 0.4398\n",
      "tensor([0.0001, 0.0003, 0.0005,  ..., 0.0020, 0.0012, 0.0009],\n",
      "       grad_fn=<CopyBackwards>)\n",
      "tensor(1.3872, grad_fn=<AddBackward0>)\n",
      "1.3871965408325195\n",
      "Epoch: 028, AUC: 0.4075, AP: 0.4398\n",
      "tensor([0.0001, 0.0003, 0.0005,  ..., 0.0020, 0.0011, 0.0009],\n",
      "       grad_fn=<CopyBackwards>)\n",
      "tensor(1.3872, grad_fn=<AddBackward0>)\n",
      "1.3871674537658691\n",
      "Epoch: 029, AUC: 0.4075, AP: 0.4398\n",
      "tensor([0.0001, 0.0003, 0.0005,  ..., 0.0020, 0.0011, 0.0009],\n",
      "       grad_fn=<CopyBackwards>)\n",
      "tensor(1.3872, grad_fn=<AddBackward0>)\n",
      "1.3871715068817139\n",
      "Epoch: 030, AUC: 0.4075, AP: 0.4398\n",
      "tensor([0.0001, 0.0003, 0.0005,  ..., 0.0019, 0.0011, 0.0009],\n",
      "       grad_fn=<CopyBackwards>)\n",
      "tensor(1.3871, grad_fn=<AddBackward0>)\n",
      "1.387127161026001\n",
      "Epoch: 031, AUC: 0.4075, AP: 0.4398\n",
      "tensor([0.0001, 0.0003, 0.0005,  ..., 0.0019, 0.0011, 0.0008],\n",
      "       grad_fn=<CopyBackwards>)\n",
      "tensor(1.3871, grad_fn=<AddBackward0>)\n",
      "1.3871086835861206\n",
      "Epoch: 032, AUC: 0.4075, AP: 0.4398\n",
      "tensor([0.0001, 0.0003, 0.0004,  ..., 0.0018, 0.0010, 0.0008],\n",
      "       grad_fn=<CopyBackwards>)\n",
      "tensor(1.3871, grad_fn=<AddBackward0>)\n",
      "1.3871033191680908\n",
      "Epoch: 033, AUC: 0.4075, AP: 0.4398\n",
      "tensor([0.0001, 0.0002, 0.0004,  ..., 0.0018, 0.0010, 0.0008],\n",
      "       grad_fn=<CopyBackwards>)\n",
      "tensor(1.3871, grad_fn=<AddBackward0>)\n",
      "1.3870775699615479\n",
      "Epoch: 034, AUC: 0.4075, AP: 0.4398\n",
      "tensor([0.0001, 0.0002, 0.0004,  ..., 0.0017, 0.0010, 0.0008],\n",
      "       grad_fn=<CopyBackwards>)\n",
      "tensor(1.3871, grad_fn=<AddBackward0>)\n",
      "1.3870562314987183\n",
      "Epoch: 035, AUC: 0.4075, AP: 0.4398\n",
      "tensor([9.8183e-05, 2.3627e-04, 4.0935e-04,  ..., 1.6851e-03, 9.5108e-04,\n",
      "        7.5535e-04], grad_fn=<CopyBackwards>)\n",
      "tensor(1.3870, grad_fn=<AddBackward0>)\n",
      "1.3870339393615723\n",
      "Epoch: 036, AUC: 0.4075, AP: 0.4398\n",
      "tensor([9.5547e-05, 2.2994e-04, 3.9838e-04,  ..., 1.6399e-03, 9.2560e-04,\n",
      "        7.3510e-04], grad_fn=<CopyBackwards>)\n",
      "tensor(1.3870, grad_fn=<AddBackward0>)\n",
      "1.387034296989441\n",
      "Epoch: 037, AUC: 0.4075, AP: 0.4398\n",
      "tensor([9.2920e-05, 2.2360e-04, 3.8740e-04,  ..., 1.5947e-03, 9.0009e-04,\n",
      "        7.1485e-04], grad_fn=<CopyBackwards>)\n",
      "tensor(1.3870, grad_fn=<AddBackward0>)\n",
      "1.38700532913208\n",
      "Epoch: 038, AUC: 0.4075, AP: 0.4398\n",
      "tensor([9.0286e-05, 2.1728e-04, 3.7644e-04,  ..., 1.5496e-03, 8.7461e-04,\n",
      "        6.9462e-04], grad_fn=<CopyBackwards>)\n",
      "tensor(1.3870, grad_fn=<AddBackward0>)\n",
      "1.3869836330413818\n",
      "Epoch: 039, AUC: 0.4075, AP: 0.4398\n",
      "tensor([8.7661e-05, 2.1096e-04, 3.6550e-04,  ..., 1.5045e-03, 8.4918e-04,\n",
      "        6.7442e-04], grad_fn=<CopyBackwards>)\n",
      "tensor(1.3870, grad_fn=<AddBackward0>)\n",
      "1.3869616985321045\n",
      "Epoch: 040, AUC: 0.4075, AP: 0.4398\n",
      "tensor([8.5043e-05, 2.0465e-04, 3.5458e-04,  ..., 1.4596e-03, 8.2381e-04,\n",
      "        6.5427e-04], grad_fn=<CopyBackwards>)\n",
      "tensor(1.3869, grad_fn=<AddBackward0>)\n",
      "1.3869303464889526\n",
      "Epoch: 041, AUC: 0.4075, AP: 0.4398\n",
      "tensor([8.2434e-05, 1.9837e-04, 3.4370e-04,  ..., 1.4148e-03, 7.9854e-04,\n",
      "        6.3420e-04], grad_fn=<CopyBackwards>)\n",
      "tensor(1.3869, grad_fn=<AddBackward0>)\n",
      "1.3869218826293945\n",
      "Epoch: 042, AUC: 0.4075, AP: 0.4398\n",
      "tensor([7.9830e-05, 1.9211e-04, 3.3284e-04,  ..., 1.3701e-03, 7.7331e-04,\n",
      "        6.1416e-04], grad_fn=<CopyBackwards>)\n"
     ]
    },
    {
     "name": "stdout",
     "output_type": "stream",
     "text": [
      "tensor(1.3869, grad_fn=<AddBackward0>)\n",
      "1.386894941329956\n",
      "Epoch: 043, AUC: 0.4075, AP: 0.4398\n",
      "tensor([7.7231e-05, 1.8586e-04, 3.2201e-04,  ..., 1.3255e-03, 7.4815e-04,\n",
      "        5.9418e-04], grad_fn=<CopyBackwards>)\n",
      "tensor(1.3869, grad_fn=<AddBackward0>)\n",
      "1.3868720531463623\n",
      "Epoch: 044, AUC: 0.4075, AP: 0.4398\n",
      "tensor([7.4639e-05, 1.7962e-04, 3.1121e-04,  ..., 1.2811e-03, 7.2305e-04,\n",
      "        5.7424e-04], grad_fn=<CopyBackwards>)\n",
      "tensor(1.3869, grad_fn=<AddBackward0>)\n",
      "1.3868507146835327\n",
      "Epoch: 045, AUC: 0.4075, AP: 0.4398\n",
      "tensor([7.2052e-05, 1.7340e-04, 3.0043e-04,  ..., 1.2367e-03, 6.9800e-04,\n",
      "        5.5435e-04], grad_fn=<CopyBackwards>)\n",
      "tensor(1.3868, grad_fn=<AddBackward0>)\n",
      "1.3868398666381836\n",
      "Epoch: 046, AUC: 0.4075, AP: 0.4398\n",
      "tensor([6.9465e-05, 1.6717e-04, 2.8964e-04,  ..., 1.1923e-03, 6.7294e-04,\n",
      "        5.3445e-04], grad_fn=<CopyBackwards>)\n",
      "tensor(1.3868, grad_fn=<AddBackward0>)\n",
      "1.386826515197754\n",
      "Epoch: 047, AUC: 0.4075, AP: 0.4398\n",
      "tensor([6.6876e-05, 1.6094e-04, 2.7884e-04,  ..., 1.1478e-03, 6.4784e-04,\n",
      "        5.1452e-04], grad_fn=<CopyBackwards>)\n",
      "tensor(1.3868, grad_fn=<AddBackward0>)\n",
      "1.3868050575256348\n",
      "Epoch: 048, AUC: 0.4075, AP: 0.4398\n",
      "tensor([6.4282e-05, 1.5469e-04, 2.6802e-04,  ..., 1.1033e-03, 6.2270e-04,\n",
      "        4.9455e-04], grad_fn=<CopyBackwards>)\n",
      "tensor(1.3868, grad_fn=<AddBackward0>)\n",
      "1.3867820501327515\n",
      "Epoch: 049, AUC: 0.4075, AP: 0.4398\n",
      "tensor([6.1682e-05, 1.4844e-04, 2.5718e-04,  ..., 1.0587e-03, 5.9752e-04,\n",
      "        4.7455e-04], grad_fn=<CopyBackwards>)\n",
      "tensor(1.3868, grad_fn=<AddBackward0>)\n",
      "1.3867603540420532\n",
      "Epoch: 050, AUC: 0.4075, AP: 0.4398\n",
      "tensor([5.9080e-05, 1.4218e-04, 2.4633e-04,  ..., 1.0140e-03, 5.7232e-04,\n",
      "        4.5454e-04], grad_fn=<CopyBackwards>)\n",
      "tensor(1.3867, grad_fn=<AddBackward0>)\n",
      "1.386749505996704\n",
      "Epoch: 051, AUC: 0.4075, AP: 0.4398\n",
      "tensor([5.6473e-05, 1.3590e-04, 2.3546e-04,  ..., 9.6924e-04, 5.4706e-04,\n",
      "        4.3447e-04], grad_fn=<CopyBackwards>)\n",
      "tensor(1.3867, grad_fn=<AddBackward0>)\n",
      "1.3867182731628418\n",
      "Epoch: 052, AUC: 0.4075, AP: 0.4398\n",
      "tensor([5.3866e-05, 1.2963e-04, 2.2459e-04,  ..., 9.2449e-04, 5.2180e-04,\n",
      "        4.1441e-04], grad_fn=<CopyBackwards>)\n",
      "tensor(1.3867, grad_fn=<AddBackward0>)\n",
      "1.3867028951644897\n",
      "Epoch: 053, AUC: 0.4075, AP: 0.4398\n",
      "tensor([5.1258e-05, 1.2335e-04, 2.1371e-04,  ..., 8.7974e-04, 4.9654e-04,\n",
      "        3.9435e-04], grad_fn=<CopyBackwards>)\n",
      "tensor(1.3867, grad_fn=<AddBackward0>)\n",
      "1.3866816759109497\n",
      "Epoch: 054, AUC: 0.4075, AP: 0.4398\n",
      "tensor([4.8653e-05, 1.1708e-04, 2.0285e-04,  ..., 8.3502e-04, 4.7130e-04,\n",
      "        3.7431e-04], grad_fn=<CopyBackwards>)\n",
      "tensor(1.3867, grad_fn=<AddBackward0>)\n",
      "1.3866655826568604\n",
      "Epoch: 055, AUC: 0.4075, AP: 0.4398\n",
      "tensor([4.6049e-05, 1.1082e-04, 1.9199e-04,  ..., 7.9033e-04, 4.4607e-04,\n",
      "        3.5427e-04], grad_fn=<CopyBackwards>)\n",
      "tensor(1.3866, grad_fn=<AddBackward0>)\n",
      "1.3866432905197144\n",
      "Epoch: 056, AUC: 0.4075, AP: 0.4398\n",
      "tensor([4.3448e-05, 1.0456e-04, 1.8115e-04,  ..., 7.4570e-04, 4.2089e-04,\n",
      "        3.3427e-04], grad_fn=<CopyBackwards>)\n",
      "tensor(1.3866, grad_fn=<AddBackward0>)\n",
      "1.3866236209869385\n",
      "Epoch: 057, AUC: 0.4075, AP: 0.4398\n",
      "tensor([4.0853e-05, 9.8310e-05, 1.7033e-04,  ..., 7.0115e-04, 3.9574e-04,\n",
      "        3.1430e-04], grad_fn=<CopyBackwards>)\n",
      "tensor(1.3866, grad_fn=<AddBackward0>)\n",
      "1.3866016864776611\n",
      "Epoch: 058, AUC: 0.4075, AP: 0.4398\n",
      "tensor([3.8260e-05, 9.2074e-05, 1.5953e-04,  ..., 6.5667e-04, 3.7064e-04,\n",
      "        2.9436e-04], grad_fn=<CopyBackwards>)\n",
      "tensor(1.3866, grad_fn=<AddBackward0>)\n",
      "1.3865818977355957\n",
      "Epoch: 059, AUC: 0.4075, AP: 0.4398\n",
      "tensor([3.5673e-05, 8.5848e-05, 1.4874e-04,  ..., 6.1226e-04, 3.4557e-04,\n",
      "        2.7445e-04], grad_fn=<CopyBackwards>)\n",
      "tensor(1.3866, grad_fn=<AddBackward0>)\n",
      "1.3865605592727661\n",
      "Epoch: 060, AUC: 0.4075, AP: 0.4398\n",
      "tensor([3.3088e-05, 7.9628e-05, 1.3796e-04,  ..., 5.6791e-04, 3.2054e-04,\n",
      "        2.5457e-04], grad_fn=<CopyBackwards>)\n",
      "tensor(1.3865, grad_fn=<AddBackward0>)\n",
      "1.3865456581115723\n",
      "Epoch: 061, AUC: 0.4075, AP: 0.4398\n",
      "tensor([3.0501e-05, 7.3401e-05, 1.2717e-04,  ..., 5.2349e-04, 2.9547e-04,\n",
      "        2.3466e-04], grad_fn=<CopyBackwards>)\n",
      "tensor(1.3865, grad_fn=<AddBackward0>)\n",
      "1.3865206241607666\n",
      "Epoch: 062, AUC: 0.4075, AP: 0.4398\n",
      "tensor([2.7915e-05, 6.7176e-05, 1.1639e-04,  ..., 4.7909e-04, 2.7041e-04,\n",
      "        2.1476e-04], grad_fn=<CopyBackwards>)\n",
      "tensor(1.3865, grad_fn=<AddBackward0>)\n",
      "1.38650381565094\n",
      "Epoch: 063, AUC: 0.4075, AP: 0.4398\n",
      "tensor([2.5326e-05, 6.0947e-05, 1.0559e-04,  ..., 4.3466e-04, 2.4533e-04,\n",
      "        1.9484e-04], grad_fn=<CopyBackwards>)\n",
      "tensor(1.3865, grad_fn=<AddBackward0>)\n",
      "1.3864840269088745\n",
      "Epoch: 064, AUC: 0.4075, AP: 0.4398\n",
      "tensor([2.2737e-05, 5.4716e-05, 9.4799e-05,  ..., 3.9023e-04, 2.2025e-04,\n",
      "        1.7493e-04], grad_fn=<CopyBackwards>)\n",
      "tensor(1.3865, grad_fn=<AddBackward0>)\n",
      "1.3864645957946777\n",
      "Epoch: 065, AUC: 0.4075, AP: 0.4398\n",
      "tensor([2.0150e-05, 4.8491e-05, 8.4015e-05,  ..., 3.4584e-04, 1.9520e-04,\n",
      "        1.5503e-04], grad_fn=<CopyBackwards>)\n",
      "tensor(1.3864, grad_fn=<AddBackward0>)\n",
      "1.386443853378296\n",
      "Epoch: 066, AUC: 0.4075, AP: 0.4398\n",
      "tensor([1.7571e-05, 4.2284e-05, 7.3261e-05,  ..., 3.0157e-04, 1.7021e-04,\n",
      "        1.3518e-04], grad_fn=<CopyBackwards>)\n",
      "tensor(1.3864, grad_fn=<AddBackward0>)\n",
      "1.3864244222640991\n",
      "Epoch: 067, AUC: 0.4075, AP: 0.4398\n",
      "tensor([1.5001e-05, 3.6099e-05, 6.2544e-05,  ..., 2.5746e-04, 1.4531e-04,\n",
      "        1.1541e-04], grad_fn=<CopyBackwards>)\n",
      "tensor(1.3864, grad_fn=<AddBackward0>)\n",
      "1.3864068984985352\n",
      "Epoch: 068, AUC: 0.4075, AP: 0.4398\n",
      "tensor([1.2434e-05, 2.9924e-05, 5.1845e-05,  ..., 2.1341e-04, 1.2045e-04,\n",
      "        9.5665e-05], grad_fn=<CopyBackwards>)\n",
      "tensor(1.3864, grad_fn=<AddBackward0>)\n",
      "1.3863871097564697\n",
      "Epoch: 069, AUC: 0.4075, AP: 0.4398\n",
      "tensor([9.8677e-06, 2.3746e-05, 4.1142e-05,  ..., 1.6936e-04, 9.5589e-05,\n",
      "        7.5916e-05], grad_fn=<CopyBackwards>)\n",
      "tensor(1.3864, grad_fn=<AddBackward0>)\n",
      "1.386367917060852\n",
      "Epoch: 070, AUC: 0.4075, AP: 0.4398\n",
      "tensor([7.2938e-06, 1.7552e-05, 3.0411e-05,  ..., 1.2518e-04, 7.0656e-05,\n",
      "        5.6114e-05], grad_fn=<CopyBackwards>)\n",
      "tensor(1.3863, grad_fn=<AddBackward0>)\n",
      "1.386349081993103\n",
      "Epoch: 071, AUC: 0.4075, AP: 0.4399\n",
      "tensor([4.7138e-06, 1.1344e-05, 1.9654e-05,  ..., 8.0903e-05, 4.5663e-05,\n",
      "        3.6265e-05], grad_fn=<CopyBackwards>)\n",
      "tensor(1.3863, grad_fn=<AddBackward0>)\n",
      "1.386330246925354\n",
      "Epoch: 072, AUC: 0.4074, AP: 0.4399\n",
      "tensor([2.1544e-06, 5.1846e-06, 8.9827e-06,  ..., 3.6976e-05, 2.0870e-05,\n",
      "        1.6575e-05], grad_fn=<CopyBackwards>)\n",
      "tensor(1.3863, grad_fn=<AddBackward0>)\n",
      "1.3863105773925781\n",
      "Epoch: 073, AUC: 0.4074, AP: 0.4404\n",
      "tensor([4.7345e-07, 1.1393e-06, 1.9739e-06,  ..., 8.1255e-06, 4.5862e-06,\n",
      "        3.6424e-06], grad_fn=<CopyBackwards>)\n",
      "tensor(1.3863, grad_fn=<AddBackward0>)\n",
      "1.3862977027893066\n",
      "Epoch: 074, AUC: 0.4074, AP: 0.4399\n",
      "tensor([2.6967e-06, 6.4895e-06, 1.1243e-05,  ..., 4.6282e-05, 2.6123e-05,\n",
      "        2.0746e-05], grad_fn=<CopyBackwards>)\n",
      "tensor(1.3863, grad_fn=<AddBackward0>)\n",
      "1.3863146305084229\n",
      "Epoch: 075, AUC: 0.4075, AP: 0.4399\n",
      "tensor([4.2800e-06, 1.0300e-05, 1.7845e-05,  ..., 7.3457e-05, 4.1460e-05,\n",
      "        3.2928e-05], grad_fn=<CopyBackwards>)\n",
      "tensor(1.3863, grad_fn=<AddBackward0>)\n",
      "1.3863264322280884\n",
      "Epoch: 076, AUC: 0.4075, AP: 0.4399\n",
      "tensor([5.4063e-06, 1.3010e-05, 2.2541e-05,  ..., 9.2789e-05, 5.2372e-05,\n",
      "        4.1593e-05], grad_fn=<CopyBackwards>)\n",
      "tensor(1.3863, grad_fn=<AddBackward0>)\n",
      "1.3863351345062256\n",
      "Epoch: 077, AUC: 0.4075, AP: 0.4398\n",
      "tensor([6.2369e-06, 1.5009e-05, 2.6004e-05,  ..., 1.0704e-04, 6.0417e-05,\n",
      "        4.7983e-05], grad_fn=<CopyBackwards>)\n",
      "tensor(1.3863, grad_fn=<AddBackward0>)\n",
      "1.386340856552124\n",
      "Epoch: 078, AUC: 0.4075, AP: 0.4398\n",
      "tensor([6.7830e-06, 1.6323e-05, 2.8280e-05,  ..., 1.1641e-04, 6.5706e-05,\n",
      "        5.2184e-05], grad_fn=<CopyBackwards>)\n",
      "tensor(1.3863, grad_fn=<AddBackward0>)\n",
      "1.3863446712493896\n",
      "Epoch: 079, AUC: 0.4075, AP: 0.4398\n",
      "tensor([7.0109e-06, 1.6871e-05, 2.9231e-05,  ..., 1.2033e-04, 6.7914e-05,\n",
      "        5.3937e-05], grad_fn=<CopyBackwards>)\n",
      "tensor(1.3863, grad_fn=<AddBackward0>)\n",
      "1.3863472938537598\n",
      "Epoch: 080, AUC: 0.4075, AP: 0.4398\n",
      "tensor([6.9165e-06, 1.6645e-05, 2.8838e-05,  ..., 1.1871e-04, 6.7001e-05,\n",
      "        5.3212e-05], grad_fn=<CopyBackwards>)\n",
      "tensor(1.3863, grad_fn=<AddBackward0>)\n",
      "1.3863458633422852\n",
      "Epoch: 081, AUC: 0.4075, AP: 0.4399\n",
      "tensor([6.5585e-06, 1.5783e-05, 2.7345e-05,  ..., 1.1256e-04, 6.3532e-05,\n",
      "        5.0457e-05], grad_fn=<CopyBackwards>)\n"
     ]
    },
    {
     "name": "stdout",
     "output_type": "stream",
     "text": [
      "tensor(1.3863, grad_fn=<AddBackward0>)\n",
      "1.3863435983657837\n",
      "Epoch: 082, AUC: 0.4075, AP: 0.4398\n",
      "tensor([6.0027e-06, 1.4445e-05, 2.5028e-05,  ..., 1.0302e-04, 5.8149e-05,\n",
      "        4.6182e-05], grad_fn=<CopyBackwards>)\n",
      "tensor(1.3863, grad_fn=<AddBackward0>)\n",
      "1.3863394260406494\n",
      "Epoch: 083, AUC: 0.4075, AP: 0.4398\n",
      "tensor([5.2831e-06, 1.2714e-05, 2.2027e-05,  ..., 9.0673e-05, 5.1178e-05,\n",
      "        4.0645e-05], grad_fn=<CopyBackwards>)\n",
      "tensor(1.3863, grad_fn=<AddBackward0>)\n",
      "1.38633394241333\n",
      "Epoch: 084, AUC: 0.4075, AP: 0.4399\n",
      "tensor([4.3752e-06, 1.0529e-05, 1.8242e-05,  ..., 7.5090e-05, 4.2382e-05,\n",
      "        3.3660e-05], grad_fn=<CopyBackwards>)\n",
      "tensor(1.3863, grad_fn=<AddBackward0>)\n",
      "1.3863271474838257\n",
      "Epoch: 085, AUC: 0.4075, AP: 0.4399\n",
      "tensor([3.2529e-06, 7.8280e-06, 1.3563e-05,  ..., 5.5829e-05, 3.1511e-05,\n",
      "        2.5026e-05], grad_fn=<CopyBackwards>)\n",
      "tensor(1.3863, grad_fn=<AddBackward0>)\n",
      "1.3863191604614258\n",
      "Epoch: 086, AUC: 0.4075, AP: 0.4399\n",
      "tensor([1.9923e-06, 4.7945e-06, 8.3068e-06,  ..., 3.4194e-05, 1.9300e-05,\n",
      "        1.5328e-05], grad_fn=<CopyBackwards>)\n",
      "tensor(1.3863, grad_fn=<AddBackward0>)\n",
      "1.386309266090393\n",
      "Epoch: 087, AUC: 0.4074, AP: 0.4402\n",
      "tensor([7.7026e-07, 1.8536e-06, 3.2115e-06,  ..., 1.3220e-05, 7.4616e-06,\n",
      "        5.9260e-06], grad_fn=<CopyBackwards>)\n",
      "tensor(1.3863, grad_fn=<AddBackward0>)\n",
      "1.3863002061843872\n",
      "Epoch: 088, AUC: 0.4075, AP: 0.4401\n",
      "tensor([1.0269e-06, 2.4713e-06, 4.2817e-06,  ..., 1.7625e-05, 9.9480e-06,\n",
      "        7.9007e-06], grad_fn=<CopyBackwards>)\n",
      "tensor(1.3863, grad_fn=<AddBackward0>)\n",
      "1.3863019943237305\n",
      "Epoch: 089, AUC: 0.4075, AP: 0.4400\n",
      "tensor([1.9765e-06, 4.7564e-06, 8.2407e-06,  ..., 3.3922e-05, 1.9146e-05,\n",
      "        1.5206e-05], grad_fn=<CopyBackwards>)\n",
      "tensor(1.3863, grad_fn=<AddBackward0>)\n",
      "1.3863091468811035\n",
      "Epoch: 090, AUC: 0.4075, AP: 0.4399\n",
      "tensor([2.6795e-06, 6.4482e-06, 1.1172e-05,  ..., 4.5988e-05, 2.5956e-05,\n",
      "        2.0615e-05], grad_fn=<CopyBackwards>)\n",
      "tensor(1.3863, grad_fn=<AddBackward0>)\n",
      "1.3863141536712646\n",
      "Epoch: 091, AUC: 0.4075, AP: 0.4399\n",
      "tensor([3.1302e-06, 7.5328e-06, 1.3051e-05,  ..., 5.3723e-05, 3.0322e-05,\n",
      "        2.4082e-05], grad_fn=<CopyBackwards>)\n",
      "tensor(1.3863, grad_fn=<AddBackward0>)\n",
      "1.3863179683685303\n",
      "Epoch: 092, AUC: 0.4075, AP: 0.4399\n",
      "tensor([3.2433e-06, 7.8047e-06, 1.3522e-05,  ..., 5.5663e-05, 3.1417e-05,\n",
      "        2.4951e-05], grad_fn=<CopyBackwards>)\n",
      "tensor(1.3863, grad_fn=<AddBackward0>)\n",
      "1.3863191604614258\n",
      "Epoch: 093, AUC: 0.4075, AP: 0.4399\n",
      "tensor([3.0430e-06, 7.3228e-06, 1.2687e-05,  ..., 5.2226e-05, 2.9477e-05,\n",
      "        2.3411e-05], grad_fn=<CopyBackwards>)\n",
      "tensor(1.3863, grad_fn=<AddBackward0>)\n",
      "1.386317253112793\n",
      "Epoch: 094, AUC: 0.4075, AP: 0.4399\n",
      "tensor([2.6370e-06, 6.3460e-06, 1.0995e-05,  ..., 4.5259e-05, 2.5545e-05,\n",
      "        2.0288e-05], grad_fn=<CopyBackwards>)\n",
      "tensor(1.3863, grad_fn=<AddBackward0>)\n",
      "1.386314034461975\n",
      "Epoch: 095, AUC: 0.4075, AP: 0.4399\n",
      "tensor([2.0596e-06, 4.9564e-06, 8.5873e-06,  ..., 3.5349e-05, 1.9952e-05,\n",
      "        1.5845e-05], grad_fn=<CopyBackwards>)\n",
      "tensor(1.3863, grad_fn=<AddBackward0>)\n",
      "1.3863097429275513\n",
      "Epoch: 096, AUC: 0.4075, AP: 0.4400\n",
      "tensor([1.2299e-06, 2.9596e-06, 5.1277e-06,  ..., 2.1108e-05, 1.1914e-05,\n",
      "        9.4618e-06], grad_fn=<CopyBackwards>)\n",
      "tensor(1.3863, grad_fn=<AddBackward0>)\n",
      "1.3863035440444946\n",
      "Epoch: 097, AUC: 0.4074, AP: 0.4406\n",
      "tensor([3.6557e-07, 8.7973e-07, 1.5242e-06,  ..., 6.2742e-06, 3.5413e-06,\n",
      "        2.8125e-06], grad_fn=<CopyBackwards>)\n",
      "tensor(1.3863, grad_fn=<AddBackward0>)\n",
      "1.3862972259521484\n",
      "Epoch: 098, AUC: 0.4075, AP: 0.4401\n",
      "tensor([9.8392e-07, 2.3678e-06, 4.1024e-06,  ..., 1.6887e-05, 9.5313e-06,\n",
      "        7.5697e-06], grad_fn=<CopyBackwards>)\n",
      "tensor(1.3863, grad_fn=<AddBackward0>)\n",
      "1.3863017559051514\n",
      "Epoch: 099, AUC: 0.4075, AP: 0.4400\n",
      "tensor([1.5906e-06, 3.8279e-06, 6.6321e-06,  ..., 2.7300e-05, 1.5409e-05,\n",
      "        1.2238e-05], grad_fn=<CopyBackwards>)\n",
      "tensor(1.3863, grad_fn=<AddBackward0>)\n",
      "1.3863062858581543\n",
      "Epoch: 100, AUC: 0.4075, AP: 0.4400\n"
     ]
    }
   ],
   "source": [
    "for epoch in range(1, 101):\n",
    "    loss = train()\n",
    "    print(loss)\n",
    "    auc, ap = test(data.test_pos_edge_index, data.test_neg_edge_index)\n",
    "    print('Epoch: {:03d}, AUC: {:.4f}, AP: {:.4f}'.format(epoch, auc, ap))"
   ]
  },
  {
   "cell_type": "code",
   "execution_count": 25,
   "id": "b8beaa38",
   "metadata": {},
   "outputs": [],
   "source": [
    "z = model.encode(graph.x, train_pos_edge_index)"
   ]
  },
  {
   "cell_type": "code",
   "execution_count": 26,
   "id": "9d2deb2a",
   "metadata": {},
   "outputs": [
    {
     "data": {
      "text/plain": [
       "tensor([0.5000, 0.5000, 0.5000,  ..., 0.5000, 0.5000, 0.5000],\n",
       "       grad_fn=<SigmoidBackward>)"
      ]
     },
     "execution_count": 26,
     "metadata": {},
     "output_type": "execute_result"
    }
   ],
   "source": [
    "model.decoder(z, train_pos_edge_index, sigmoid=True)"
   ]
  },
  {
   "cell_type": "code",
   "execution_count": null,
   "id": "d2bad95d",
   "metadata": {},
   "outputs": [],
   "source": []
  },
  {
   "cell_type": "code",
   "execution_count": 27,
   "id": "3108532f",
   "metadata": {},
   "outputs": [
    {
     "ename": "NameError",
     "evalue": "name 'value' is not defined",
     "output_type": "error",
     "traceback": [
      "\u001b[0;31m---------------------------------------------------------------------------\u001b[0m",
      "\u001b[0;31mNameError\u001b[0m                                 Traceback (most recent call last)",
      "\u001b[0;32m<ipython-input-27-928c4f869d16>\u001b[0m in \u001b[0;36m<module>\u001b[0;34m\u001b[0m\n\u001b[0;32m----> 1\u001b[0;31m \u001b[0mvalue\u001b[0m\u001b[0;34m[\u001b[0m\u001b[0;34m:\u001b[0m\u001b[0;36m10\u001b[0m\u001b[0;34m]\u001b[0m\u001b[0;34m\u001b[0m\u001b[0;34m\u001b[0m\u001b[0m\n\u001b[0m",
      "\u001b[0;31mNameError\u001b[0m: name 'value' is not defined"
     ]
    }
   ],
   "source": [
    "value[:10]"
   ]
  },
  {
   "cell_type": "code",
   "execution_count": null,
   "id": "cd878641",
   "metadata": {},
   "outputs": [],
   "source": [
    "import sys\n",
    "sys.path.insert(1,'../src')\n",
    "from TwoLayerGraphSage import GCN"
   ]
  },
  {
   "cell_type": "code",
   "execution_count": null,
   "id": "78fe485d",
   "metadata": {},
   "outputs": [],
   "source": [
    "model = GAE(GCN(data.num_node_features))"
   ]
  },
  {
   "cell_type": "code",
   "execution_count": null,
   "id": "2f08c490",
   "metadata": {},
   "outputs": [],
   "source": [
    "model.load_state_dict(torch.load( '../models/TwoLayerGraphSage.pt'))"
   ]
  },
  {
   "cell_type": "code",
   "execution_count": null,
   "id": "69b59fcc",
   "metadata": {},
   "outputs": [],
   "source": [
    "import torch.nn.functional as F"
   ]
  },
  {
   "cell_type": "code",
   "execution_count": null,
   "id": "a82e1563",
   "metadata": {},
   "outputs": [],
   "source": [
    "for epoch in range(1, 101):\n",
    "    loss = train()\n",
    "\n",
    "    auc, ap = test(data.test_pos_edge_index, data.test_neg_edge_index)\n",
    "    print('Epoch: {:03d}, AUC: {:.4f}, AP: {:.4f}'.format(epoch, auc, ap))"
   ]
  },
  {
   "cell_type": "code",
   "execution_count": null,
   "id": "b97d959a",
   "metadata": {},
   "outputs": [],
   "source": [
    "Z = model.encode(graph.x, train_pos_edge_index)"
   ]
  },
  {
   "cell_type": "code",
   "execution_count": null,
   "id": "e9d9eb08",
   "metadata": {},
   "outputs": [],
   "source": [
    "Z = Z.detach().numpy()"
   ]
  },
  {
   "cell_type": "code",
   "execution_count": null,
   "id": "abedf50b",
   "metadata": {},
   "outputs": [],
   "source": [
    "Z"
   ]
  },
  {
   "cell_type": "code",
   "execution_count": null,
   "id": "209d287f",
   "metadata": {},
   "outputs": [],
   "source": [
    "x = Z[:,0]\n",
    "y = Z[:,1]\n",
    "colors = graph.block\n",
    "\n",
    "plt.scatter(x, y, c=colors, cmap='viridis')\n",
    "\n",
    "plt.show() "
   ]
  },
  {
   "cell_type": "code",
   "execution_count": null,
   "id": "381d197f",
   "metadata": {},
   "outputs": [],
   "source": [
    "pos_loss = model.decoder(Z, train_pos_edge_index)"
   ]
  },
  {
   "cell_type": "code",
   "execution_count": null,
   "id": "91600402",
   "metadata": {},
   "outputs": [],
   "source": [
    "pos_loss"
   ]
  },
  {
   "cell_type": "code",
   "execution_count": null,
   "id": "8ff82c3c",
   "metadata": {},
   "outputs": [],
   "source": [
    "train_pos_edge_index"
   ]
  },
  {
   "cell_type": "code",
   "execution_count": null,
   "id": "a167bb73",
   "metadata": {},
   "outputs": [],
   "source": [
    "len(pos_loss)"
   ]
  },
  {
   "cell_type": "code",
   "execution_count": null,
   "id": "037b5ebe",
   "metadata": {},
   "outputs": [],
   "source": [
    "value = (Z[train_pos_edge_index[0]] * Z[train_pos_edge_index[1]]).sum(dim=1)"
   ]
  },
  {
   "cell_type": "code",
   "execution_count": null,
   "id": "fed5a67f",
   "metadata": {},
   "outputs": [],
   "source": [
    "value"
   ]
  },
  {
   "cell_type": "code",
   "execution_count": null,
   "id": "ba91713d",
   "metadata": {},
   "outputs": [],
   "source": [
    "train_pos_edge_index"
   ]
  },
  {
   "cell_type": "code",
   "execution_count": null,
   "id": "1e7f1903",
   "metadata": {},
   "outputs": [],
   "source": [
    "hi = torch.dot(Z[0], Z[4])"
   ]
  },
  {
   "cell_type": "code",
   "execution_count": null,
   "id": "f31a5fc2",
   "metadata": {},
   "outputs": [],
   "source": [
    "hi"
   ]
  },
  {
   "cell_type": "code",
   "execution_count": null,
   "id": "5299f38c",
   "metadata": {},
   "outputs": [],
   "source": [
    "message = GAESage.encode(graph.x, graph.edge_index.type(torch.LongTensor))"
   ]
  },
  {
   "cell_type": "code",
   "execution_count": null,
   "id": "af99cb18",
   "metadata": {},
   "outputs": [],
   "source": [
    "value = (graph.x[graph.edge_index.type(torch.LongTensor)[0]] * graph.x[graph.edge_index.type(torch.LongTensor)[1]]).sum(dim=1)"
   ]
  },
  {
   "cell_type": "code",
   "execution_count": null,
   "id": "7deeb23a",
   "metadata": {},
   "outputs": [],
   "source": [
    "value"
   ]
  },
  {
   "cell_type": "code",
   "execution_count": null,
   "id": "170b240f",
   "metadata": {},
   "outputs": [],
   "source": [
    "dec = GAESage.decoder(graph.x, graph.edge_index.type(torch.LongTensor), sigmoid = False)"
   ]
  },
  {
   "cell_type": "code",
   "execution_count": null,
   "id": "d5080a0a",
   "metadata": {},
   "outputs": [],
   "source": [
    "dec"
   ]
  },
  {
   "cell_type": "markdown",
   "id": "b51b5191",
   "metadata": {},
   "source": [
    "The sigmoidal funciton is the problem, if we consider the things above dec with sig False produces an interpretable output. Using sigmoid jsut squashes everything to almost the same value\n",
    "--> Remove the sigmoidal funcion by writing the GAE class again simply with SIGMoid false in Rec los and test"
   ]
  }
 ],
 "metadata": {
  "kernelspec": {
   "display_name": "Python 3",
   "language": "python",
   "name": "python3"
  },
  "language_info": {
   "codemirror_mode": {
    "name": "ipython",
    "version": 3
   },
   "file_extension": ".py",
   "mimetype": "text/x-python",
   "name": "python",
   "nbconvert_exporter": "python",
   "pygments_lexer": "ipython3",
   "version": "3.8.12"
  }
 },
 "nbformat": 4,
 "nbformat_minor": 5
}
