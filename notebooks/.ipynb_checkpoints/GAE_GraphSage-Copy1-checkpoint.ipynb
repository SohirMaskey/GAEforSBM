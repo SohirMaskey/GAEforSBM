{
 "cells": [
  {
   "cell_type": "markdown",
   "id": "4c0b0e7d",
   "metadata": {},
   "source": [
    "# Data Creation"
   ]
  },
  {
   "cell_type": "code",
   "execution_count": 49,
   "id": "2a51fdfb",
   "metadata": {},
   "outputs": [],
   "source": [
    "import numpy as np\n",
    "import os"
   ]
  },
  {
   "cell_type": "code",
   "execution_count": 2,
   "id": "14c18d70",
   "metadata": {},
   "outputs": [],
   "source": [
    "N = 100"
   ]
  },
  {
   "cell_type": "code",
   "execution_count": 3,
   "id": "91eeb914",
   "metadata": {},
   "outputs": [],
   "source": [
    "s = np.random.uniform(0,1,N)"
   ]
  },
  {
   "cell_type": "code",
   "execution_count": 4,
   "id": "b99c3d57",
   "metadata": {},
   "outputs": [],
   "source": [
    "import networkx as nx\n",
    "import torch"
   ]
  },
  {
   "cell_type": "code",
   "execution_count": 5,
   "id": "37b1b7a0",
   "metadata": {},
   "outputs": [],
   "source": [
    "intervals = [1/4, 2/4, 3/4, 1]\n",
    "sizes = []\n",
    "for i in range(0, len(intervals)):\n",
    "    size = 0\n",
    "    for j in range(0, len(s)):\n",
    "        if i == 0:\n",
    "            if s[j] > 0 and s[j] <= intervals[0]:\n",
    "                size = size + 1\n",
    "        elif s[j] > intervals[i-1] and s[j] <= intervals[i]:\n",
    "            size = size+1\n",
    "    sizes.append(size)"
   ]
  },
  {
   "cell_type": "code",
   "execution_count": 6,
   "id": "ed03123b",
   "metadata": {},
   "outputs": [
    {
     "data": {
      "text/plain": [
       "[25, 27, 20, 28]"
      ]
     },
     "execution_count": 6,
     "metadata": {},
     "output_type": "execute_result"
    }
   ],
   "source": [
    "sizes"
   ]
  },
  {
   "cell_type": "code",
   "execution_count": 7,
   "id": "6cac364f",
   "metadata": {},
   "outputs": [],
   "source": [
    "ss = torch.tensor(s).reshape(N,1)"
   ]
  },
  {
   "cell_type": "code",
   "execution_count": 8,
   "id": "c31dfd09",
   "metadata": {},
   "outputs": [],
   "source": [
    "probsPerInt = [6/16, 1/16, 2/16, 3/16]"
   ]
  },
  {
   "cell_type": "code",
   "execution_count": 9,
   "id": "466479c4",
   "metadata": {},
   "outputs": [
    {
     "name": "stdout",
     "output_type": "stream",
     "text": [
      "[0.375, 0.0625, 0.0625, 0.0625]\n",
      "[0.0625, 0.0625, 0.0625, 0.0625]\n",
      "[0.0625, 0.0625, 0.125, 0.0625]\n",
      "[0.0625, 0.0625, 0.0625, 0.1875]\n"
     ]
    }
   ],
   "source": [
    "probs = []\n",
    "for i in range(0, len(probsPerInt)):\n",
    "    prob = [1/16] * len(probsPerInt)\n",
    "    prob[i] = probsPerInt[i]\n",
    "    print(prob)\n",
    "    probs.append(prob)"
   ]
  },
  {
   "cell_type": "code",
   "execution_count": 10,
   "id": "018689c1",
   "metadata": {},
   "outputs": [],
   "source": [
    "g = nx.stochastic_block_model(sizes, probs, seed=0)"
   ]
  },
  {
   "cell_type": "markdown",
   "id": "8deffe5b",
   "metadata": {},
   "source": [
    "# Model Creation"
   ]
  },
  {
   "cell_type": "code",
   "execution_count": 11,
   "id": "a01a7a87",
   "metadata": {},
   "outputs": [],
   "source": [
    "from torch_geometric.nn import SAGEConv\n",
    "from torch_geometric.nn import InnerProductDecoder\n",
    "from torch_geometric.nn import GAE"
   ]
  },
  {
   "cell_type": "code",
   "execution_count": 12,
   "id": "4d164054",
   "metadata": {},
   "outputs": [],
   "source": [
    "from torch_geometric.utils import from_networkx    "
   ]
  },
  {
   "cell_type": "code",
   "execution_count": 13,
   "id": "cdba8d79",
   "metadata": {},
   "outputs": [],
   "source": [
    "graph = from_networkx(g)"
   ]
  },
  {
   "cell_type": "code",
   "execution_count": 14,
   "id": "4eed7306",
   "metadata": {},
   "outputs": [],
   "source": [
    "from torch_geometric.utils import degree\n",
    "\n",
    "d = degree(graph.edge_index[0], N, dtype=torch.long).reshape(N,1)"
   ]
  },
  {
   "cell_type": "markdown",
   "id": "18e13494",
   "metadata": {},
   "source": [
    "graph.x = ss\n",
    "#graph.x = graph.x.type(torch.LongTensor)\n",
    "graph.x = graph.x.type(torch.FloatTensor)"
   ]
  },
  {
   "cell_type": "code",
   "execution_count": 15,
   "id": "41ea4e87",
   "metadata": {},
   "outputs": [],
   "source": [
    "graph.x = d/N\n",
    "#graph.x = graph.x.type(torch.LongTensor)\n",
    "graph.x = graph.x.type(torch.FloatTensor)"
   ]
  },
  {
   "cell_type": "code",
   "execution_count": 50,
   "id": "60f06c4c",
   "metadata": {},
   "outputs": [],
   "source": [
    "torch.save(graph, \n",
    "                os.path.join('../input', \n",
    "                    f'RGG_100nodes.pt'))"
   ]
  },
  {
   "cell_type": "code",
   "execution_count": 16,
   "id": "77302ae0",
   "metadata": {},
   "outputs": [],
   "source": [
    "gS = SAGEConv(graph.num_node_features, 2, root_weight=False, bias=False)"
   ]
  },
  {
   "cell_type": "code",
   "execution_count": 51,
   "id": "a8a0fb94",
   "metadata": {},
   "outputs": [],
   "source": [
    "torch.save(gS.state_dict(), '../models/GraphSage')"
   ]
  },
  {
   "cell_type": "code",
   "execution_count": null,
   "id": "567e8f4f",
   "metadata": {},
   "outputs": [],
   "source": [
    "gS = SAGEConv()\n",
    "gS.load_state_dict(torch.load( '../models/GCNTwoLayersGraphSage'))"
   ]
  },
  {
   "cell_type": "code",
   "execution_count": 17,
   "id": "686115e5",
   "metadata": {},
   "outputs": [],
   "source": [
    "message = gS(graph.x, graph.edge_index)"
   ]
  },
  {
   "cell_type": "code",
   "execution_count": 18,
   "id": "6d2008d4",
   "metadata": {},
   "outputs": [],
   "source": [
    "messagenp = message.cpu().detach().numpy()"
   ]
  },
  {
   "cell_type": "code",
   "execution_count": 19,
   "id": "3fa1e027",
   "metadata": {},
   "outputs": [],
   "source": [
    "import matplotlib.pyplot as plt"
   ]
  },
  {
   "cell_type": "code",
   "execution_count": 20,
   "id": "e7e3752b",
   "metadata": {},
   "outputs": [
    {
     "data": {
      "image/png": "[encoded data removed]",
      "text/plain": [
       "<Figure size 432x288 with 1 Axes>"
      ]
     },
     "metadata": {
      "needs_background": "light"
     },
     "output_type": "display_data"
    }
   ],
   "source": [
    "x = messagenp[:,0]\n",
    "y = messagenp[:,1]\n",
    "colors = graph.block\n",
    "\n",
    "plt.scatter(x, y, c=colors, cmap='viridis')\n",
    "\n",
    "plt.show() "
   ]
  },
  {
   "cell_type": "code",
   "execution_count": 21,
   "id": "a866c741",
   "metadata": {},
   "outputs": [],
   "source": [
    "IPD = InnerProductDecoder()"
   ]
  },
  {
   "cell_type": "code",
   "execution_count": 22,
   "id": "c8d54f1b",
   "metadata": {},
   "outputs": [],
   "source": [
    "GAESage = GAE(gS, IPD)"
   ]
  },
  {
   "cell_type": "markdown",
   "id": "426667a8",
   "metadata": {},
   "source": [
    "# Training"
   ]
  },
  {
   "cell_type": "code",
   "execution_count": 23,
   "id": "191add11",
   "metadata": {},
   "outputs": [],
   "source": [
    "from torch_geometric.transforms import RandomLinkSplit\n",
    "\n",
    "transform = RandomLinkSplit(is_undirected=True)\n",
    "train_data, val_data, test_data = transform(graph)"
   ]
  },
  {
   "cell_type": "code",
   "execution_count": 24,
   "id": "64d9fccb",
   "metadata": {},
   "outputs": [],
   "source": [
    "model = GAESage"
   ]
  },
  {
   "cell_type": "code",
   "execution_count": null,
   "id": "18f5b5da",
   "metadata": {},
   "outputs": [],
   "source": []
  },
  {
   "cell_type": "code",
   "execution_count": 25,
   "id": "6133361f",
   "metadata": {},
   "outputs": [],
   "source": [
    "optimizer = torch.optim.Adam(model.parameters(), lr=0.01)"
   ]
  },
  {
   "cell_type": "code",
   "execution_count": 26,
   "id": "15c7b35e",
   "metadata": {},
   "outputs": [
    {
     "name": "stderr",
     "output_type": "stream",
     "text": [
      "/home/math/maskey/anaconda3/envs/pyg_cuda102/lib/python3.8/site-packages/torch_geometric/deprecation.py:13: UserWarning: 'train_test_split_edges' is deprecated, use 'transforms.RandomLinkSplit' instead\n",
      "  warnings.warn(out)\n"
     ]
    }
   ],
   "source": [
    "from torch_geometric.utils import train_test_split_edges\n",
    "data = train_test_split_edges(graph)"
   ]
  },
  {
   "cell_type": "code",
   "execution_count": 27,
   "id": "56896fdb",
   "metadata": {},
   "outputs": [
    {
     "data": {
      "text/plain": [
       "Data(block=[100], num_nodes=100, x=[100, 1], val_pos_edge_index=[2, 23], test_pos_edge_index=[2, 47], train_pos_edge_index=[2, 800], train_neg_adj_mask=[100, 100], val_neg_edge_index=[2, 23], test_neg_edge_index=[2, 47])"
      ]
     },
     "execution_count": 27,
     "metadata": {},
     "output_type": "execute_result"
    }
   ],
   "source": [
    "data"
   ]
  },
  {
   "cell_type": "code",
   "execution_count": 28,
   "id": "88967273",
   "metadata": {},
   "outputs": [],
   "source": [
    "def train():\n",
    "    model.train()\n",
    "    optimizer.zero_grad()\n",
    "    z = model.encode(graph.x, train_pos_edge_index)\n",
    "    loss = model.recon_loss(z, train_pos_edge_index)\n",
    "    #if args.variational:\n",
    "    #   loss = loss + (1 / data.num_nodes) * model.kl_loss()\n",
    "    loss.backward()\n",
    "    optimizer.step()\n",
    "    print(loss)\n",
    "    return float(loss)"
   ]
  },
  {
   "cell_type": "code",
   "execution_count": 29,
   "id": "d41eabed",
   "metadata": {},
   "outputs": [],
   "source": [
    "def test(pos_edge_index, neg_edge_index):\n",
    "    model.eval()\n",
    "    with torch.no_grad():\n",
    "        z = model.encode(graph.x, train_pos_edge_index)\n",
    "    return model.test(z, pos_edge_index, neg_edge_index)"
   ]
  },
  {
   "cell_type": "code",
   "execution_count": 30,
   "id": "79fe6629",
   "metadata": {},
   "outputs": [],
   "source": [
    "train_pos_edge_index = data.train_pos_edge_index"
   ]
  },
  {
   "cell_type": "code",
   "execution_count": 31,
   "id": "77f4f0b8",
   "metadata": {},
   "outputs": [
    {
     "name": "stdout",
     "output_type": "stream",
     "text": [
      "tensor(1.3861, grad_fn=<AddBackward0>)\n",
      "Epoch: 001, AUC: 0.4651, AP: 0.4909\n",
      "tensor(1.3860, grad_fn=<AddBackward0>)\n",
      "Epoch: 002, AUC: 0.4651, AP: 0.4909\n",
      "tensor(1.3861, grad_fn=<AddBackward0>)\n",
      "Epoch: 003, AUC: 0.4651, AP: 0.4909\n",
      "tensor(1.3860, grad_fn=<AddBackward0>)\n",
      "Epoch: 004, AUC: 0.4651, AP: 0.4909\n",
      "tensor(1.3861, grad_fn=<AddBackward0>)\n",
      "Epoch: 005, AUC: 0.4651, AP: 0.4909\n",
      "tensor(1.3860, grad_fn=<AddBackward0>)\n",
      "Epoch: 006, AUC: 0.4651, AP: 0.4909\n",
      "tensor(1.3860, grad_fn=<AddBackward0>)\n",
      "Epoch: 007, AUC: 0.4651, AP: 0.4909\n",
      "tensor(1.3860, grad_fn=<AddBackward0>)\n",
      "Epoch: 008, AUC: 0.4651, AP: 0.4909\n",
      "tensor(1.3860, grad_fn=<AddBackward0>)\n",
      "Epoch: 009, AUC: 0.4651, AP: 0.4909\n",
      "tensor(1.3860, grad_fn=<AddBackward0>)\n",
      "Epoch: 010, AUC: 0.4651, AP: 0.4909\n",
      "tensor(1.3860, grad_fn=<AddBackward0>)\n",
      "Epoch: 011, AUC: 0.4651, AP: 0.4909\n",
      "tensor(1.3860, grad_fn=<AddBackward0>)\n",
      "Epoch: 012, AUC: 0.4651, AP: 0.4909\n",
      "tensor(1.3860, grad_fn=<AddBackward0>)\n",
      "Epoch: 013, AUC: 0.4651, AP: 0.4909\n",
      "tensor(1.3860, grad_fn=<AddBackward0>)\n",
      "Epoch: 014, AUC: 0.4651, AP: 0.4909\n",
      "tensor(1.3860, grad_fn=<AddBackward0>)\n",
      "Epoch: 015, AUC: 0.4651, AP: 0.4909\n",
      "tensor(1.3860, grad_fn=<AddBackward0>)\n",
      "Epoch: 016, AUC: 0.4651, AP: 0.4909\n",
      "tensor(1.3860, grad_fn=<AddBackward0>)\n",
      "Epoch: 017, AUC: 0.4651, AP: 0.4909\n",
      "tensor(1.3860, grad_fn=<AddBackward0>)\n",
      "Epoch: 018, AUC: 0.4651, AP: 0.4909\n",
      "tensor(1.3859, grad_fn=<AddBackward0>)\n",
      "Epoch: 019, AUC: 0.4651, AP: 0.4909\n",
      "tensor(1.3860, grad_fn=<AddBackward0>)\n",
      "Epoch: 020, AUC: 0.4651, AP: 0.4909\n",
      "tensor(1.3860, grad_fn=<AddBackward0>)\n",
      "Epoch: 021, AUC: 0.4651, AP: 0.4909\n",
      "tensor(1.3859, grad_fn=<AddBackward0>)\n",
      "Epoch: 022, AUC: 0.4651, AP: 0.4909\n",
      "tensor(1.3860, grad_fn=<AddBackward0>)\n",
      "Epoch: 023, AUC: 0.4651, AP: 0.4909\n",
      "tensor(1.3860, grad_fn=<AddBackward0>)\n",
      "Epoch: 024, AUC: 0.4651, AP: 0.4909\n",
      "tensor(1.3859, grad_fn=<AddBackward0>)\n",
      "Epoch: 025, AUC: 0.4651, AP: 0.4909\n",
      "tensor(1.3859, grad_fn=<AddBackward0>)\n",
      "Epoch: 026, AUC: 0.4651, AP: 0.4909\n",
      "tensor(1.3859, grad_fn=<AddBackward0>)\n",
      "Epoch: 027, AUC: 0.4651, AP: 0.4909\n",
      "tensor(1.3860, grad_fn=<AddBackward0>)\n",
      "Epoch: 028, AUC: 0.4651, AP: 0.4909\n",
      "tensor(1.3860, grad_fn=<AddBackward0>)\n",
      "Epoch: 029, AUC: 0.4651, AP: 0.4909\n",
      "tensor(1.3858, grad_fn=<AddBackward0>)\n",
      "Epoch: 030, AUC: 0.4651, AP: 0.4909\n",
      "tensor(1.3859, grad_fn=<AddBackward0>)\n",
      "Epoch: 031, AUC: 0.4651, AP: 0.4909\n",
      "tensor(1.3859, grad_fn=<AddBackward0>)\n",
      "Epoch: 032, AUC: 0.4651, AP: 0.4909\n",
      "tensor(1.3860, grad_fn=<AddBackward0>)\n",
      "Epoch: 033, AUC: 0.4651, AP: 0.4909\n",
      "tensor(1.3857, grad_fn=<AddBackward0>)\n",
      "Epoch: 034, AUC: 0.4651, AP: 0.4909\n",
      "tensor(1.3859, grad_fn=<AddBackward0>)\n",
      "Epoch: 035, AUC: 0.4651, AP: 0.4909\n",
      "tensor(1.3859, grad_fn=<AddBackward0>)\n",
      "Epoch: 036, AUC: 0.4651, AP: 0.4909\n",
      "tensor(1.3859, grad_fn=<AddBackward0>)\n",
      "Epoch: 037, AUC: 0.4651, AP: 0.4909\n",
      "tensor(1.3859, grad_fn=<AddBackward0>)\n",
      "Epoch: 038, AUC: 0.4651, AP: 0.4909\n",
      "tensor(1.3859, grad_fn=<AddBackward0>)\n",
      "Epoch: 039, AUC: 0.4651, AP: 0.4909\n",
      "tensor(1.3858, grad_fn=<AddBackward0>)\n",
      "Epoch: 040, AUC: 0.4651, AP: 0.4909\n",
      "tensor(1.3858, grad_fn=<AddBackward0>)\n",
      "Epoch: 041, AUC: 0.4651, AP: 0.4909\n",
      "tensor(1.3858, grad_fn=<AddBackward0>)\n",
      "Epoch: 042, AUC: 0.4651, AP: 0.4909\n",
      "tensor(1.3858, grad_fn=<AddBackward0>)\n",
      "Epoch: 043, AUC: 0.4651, AP: 0.4909\n",
      "tensor(1.3857, grad_fn=<AddBackward0>)\n",
      "Epoch: 044, AUC: 0.4651, AP: 0.4909\n",
      "tensor(1.3858, grad_fn=<AddBackward0>)\n",
      "Epoch: 045, AUC: 0.4651, AP: 0.4909\n",
      "tensor(1.3858, grad_fn=<AddBackward0>)\n",
      "Epoch: 046, AUC: 0.4651, AP: 0.4909\n",
      "tensor(1.3859, grad_fn=<AddBackward0>)\n",
      "Epoch: 047, AUC: 0.4651, AP: 0.4909\n",
      "tensor(1.3859, grad_fn=<AddBackward0>)\n",
      "Epoch: 048, AUC: 0.4651, AP: 0.4909\n",
      "tensor(1.3858, grad_fn=<AddBackward0>)\n",
      "Epoch: 049, AUC: 0.4651, AP: 0.4909\n",
      "tensor(1.3857, grad_fn=<AddBackward0>)\n",
      "Epoch: 050, AUC: 0.4651, AP: 0.4909\n",
      "tensor(1.3857, grad_fn=<AddBackward0>)\n",
      "Epoch: 051, AUC: 0.4651, AP: 0.4909\n",
      "tensor(1.3858, grad_fn=<AddBackward0>)\n",
      "Epoch: 052, AUC: 0.4651, AP: 0.4909\n",
      "tensor(1.3859, grad_fn=<AddBackward0>)\n",
      "Epoch: 053, AUC: 0.4651, AP: 0.4909\n",
      "tensor(1.3855, grad_fn=<AddBackward0>)\n",
      "Epoch: 054, AUC: 0.4651, AP: 0.4909\n",
      "tensor(1.3858, grad_fn=<AddBackward0>)\n",
      "Epoch: 055, AUC: 0.4651, AP: 0.4909\n",
      "tensor(1.3858, grad_fn=<AddBackward0>)\n",
      "Epoch: 056, AUC: 0.4651, AP: 0.4909\n",
      "tensor(1.3859, grad_fn=<AddBackward0>)\n",
      "Epoch: 057, AUC: 0.4651, AP: 0.4909\n",
      "tensor(1.3859, grad_fn=<AddBackward0>)\n",
      "Epoch: 058, AUC: 0.4651, AP: 0.4909\n",
      "tensor(1.3858, grad_fn=<AddBackward0>)\n",
      "Epoch: 059, AUC: 0.4651, AP: 0.4909\n",
      "tensor(1.3860, grad_fn=<AddBackward0>)\n",
      "Epoch: 060, AUC: 0.4651, AP: 0.4909\n",
      "tensor(1.3860, grad_fn=<AddBackward0>)\n",
      "Epoch: 061, AUC: 0.4651, AP: 0.4909\n",
      "tensor(1.3856, grad_fn=<AddBackward0>)\n",
      "Epoch: 062, AUC: 0.4651, AP: 0.4909\n",
      "tensor(1.3860, grad_fn=<AddBackward0>)\n",
      "Epoch: 063, AUC: 0.4651, AP: 0.4909\n",
      "tensor(1.3856, grad_fn=<AddBackward0>)\n",
      "Epoch: 064, AUC: 0.4651, AP: 0.4909\n",
      "tensor(1.3859, grad_fn=<AddBackward0>)\n",
      "Epoch: 065, AUC: 0.4651, AP: 0.4909\n",
      "tensor(1.3858, grad_fn=<AddBackward0>)\n",
      "Epoch: 066, AUC: 0.4651, AP: 0.4909\n",
      "tensor(1.3861, grad_fn=<AddBackward0>)\n",
      "Epoch: 067, AUC: 0.4651, AP: 0.4909\n",
      "tensor(1.3857, grad_fn=<AddBackward0>)\n",
      "Epoch: 068, AUC: 0.4651, AP: 0.4909\n",
      "tensor(1.3857, grad_fn=<AddBackward0>)\n",
      "Epoch: 069, AUC: 0.4651, AP: 0.4909\n",
      "tensor(1.3857, grad_fn=<AddBackward0>)\n",
      "Epoch: 070, AUC: 0.4651, AP: 0.4909\n",
      "tensor(1.3858, grad_fn=<AddBackward0>)\n",
      "Epoch: 071, AUC: 0.4651, AP: 0.4909\n",
      "tensor(1.3857, grad_fn=<AddBackward0>)\n",
      "Epoch: 072, AUC: 0.4651, AP: 0.4909\n",
      "tensor(1.3858, grad_fn=<AddBackward0>)\n",
      "Epoch: 073, AUC: 0.4651, AP: 0.4909\n",
      "tensor(1.3856, grad_fn=<AddBackward0>)\n",
      "Epoch: 074, AUC: 0.4651, AP: 0.4909\n",
      "tensor(1.3858, grad_fn=<AddBackward0>)\n",
      "Epoch: 075, AUC: 0.4651, AP: 0.4909\n",
      "tensor(1.3857, grad_fn=<AddBackward0>)\n",
      "Epoch: 076, AUC: 0.4651, AP: 0.4909\n",
      "tensor(1.3858, grad_fn=<AddBackward0>)\n",
      "Epoch: 077, AUC: 0.4651, AP: 0.4909\n",
      "tensor(1.3858, grad_fn=<AddBackward0>)\n",
      "Epoch: 078, AUC: 0.4651, AP: 0.4909\n",
      "tensor(1.3855, grad_fn=<AddBackward0>)\n",
      "Epoch: 079, AUC: 0.4651, AP: 0.4909\n",
      "tensor(1.3860, grad_fn=<AddBackward0>)\n",
      "Epoch: 080, AUC: 0.4651, AP: 0.4909\n",
      "tensor(1.3862, grad_fn=<AddBackward0>)\n",
      "Epoch: 081, AUC: 0.4651, AP: 0.4909\n",
      "tensor(1.3858, grad_fn=<AddBackward0>)\n",
      "Epoch: 082, AUC: 0.4651, AP: 0.4909\n",
      "tensor(1.3857, grad_fn=<AddBackward0>)\n",
      "Epoch: 083, AUC: 0.4651, AP: 0.4909\n",
      "tensor(1.3859, grad_fn=<AddBackward0>)\n",
      "Epoch: 084, AUC: 0.4651, AP: 0.4909\n",
      "tensor(1.3856, grad_fn=<AddBackward0>)\n",
      "Epoch: 085, AUC: 0.4651, AP: 0.4909\n",
      "tensor(1.3860, grad_fn=<AddBackward0>)\n",
      "Epoch: 086, AUC: 0.4651, AP: 0.4909\n",
      "tensor(1.3858, grad_fn=<AddBackward0>)\n",
      "Epoch: 087, AUC: 0.4651, AP: 0.4909\n",
      "tensor(1.3856, grad_fn=<AddBackward0>)\n",
      "Epoch: 088, AUC: 0.4651, AP: 0.4908\n",
      "tensor(1.3859, grad_fn=<AddBackward0>)\n",
      "Epoch: 089, AUC: 0.4651, AP: 0.4909\n",
      "tensor(1.3858, grad_fn=<AddBackward0>)\n",
      "Epoch: 090, AUC: 0.4651, AP: 0.4909\n",
      "tensor(1.3855, grad_fn=<AddBackward0>)\n",
      "Epoch: 091, AUC: 0.4651, AP: 0.4909\n",
      "tensor(1.3858, grad_fn=<AddBackward0>)\n",
      "Epoch: 092, AUC: 0.4651, AP: 0.4909\n",
      "tensor(1.3859, grad_fn=<AddBackward0>)\n",
      "Epoch: 093, AUC: 0.4651, AP: 0.4909\n",
      "tensor(1.3860, grad_fn=<AddBackward0>)\n",
      "Epoch: 094, AUC: 0.4651, AP: 0.4909\n",
      "tensor(1.3859, grad_fn=<AddBackward0>)\n",
      "Epoch: 095, AUC: 0.4651, AP: 0.4909\n",
      "tensor(1.3857, grad_fn=<AddBackward0>)\n",
      "Epoch: 096, AUC: 0.4651, AP: 0.4909\n",
      "tensor(1.3856, grad_fn=<AddBackward0>)\n",
      "Epoch: 097, AUC: 0.4651, AP: 0.4909\n",
      "tensor(1.3858, grad_fn=<AddBackward0>)\n",
      "Epoch: 098, AUC: 0.4651, AP: 0.4909\n",
      "tensor(1.3860, grad_fn=<AddBackward0>)\n",
      "Epoch: 099, AUC: 0.4651, AP: 0.4909\n",
      "tensor(1.3856, grad_fn=<AddBackward0>)\n",
      "Epoch: 100, AUC: 0.4651, AP: 0.4909\n"
     ]
    }
   ],
   "source": [
    "for epoch in range(1, 101):\n",
    "    loss = train()\n",
    "\n",
    "    auc, ap = test(data.test_pos_edge_index, data.test_neg_edge_index)\n",
    "    print('Epoch: {:03d}, AUC: {:.4f}, AP: {:.4f}'.format(epoch, auc, ap))"
   ]
  },
  {
   "cell_type": "code",
   "execution_count": 32,
   "id": "fba60c59",
   "metadata": {},
   "outputs": [],
   "source": [
    "class GCN(torch.nn.Module):\n",
    "    def __init__(self):\n",
    "        #super().__init__()\n",
    "        super(GCN, self).__init__()\n",
    "        self.lin1 = torch.nn.Linear(1, 4)\n",
    "        self.lin2 = torch.nn.Linear(4, 1)\n",
    "        self.graphSage = SAGEConv(data.num_node_features, 2, root_weight=False, bias=False)\n",
    "\n",
    "        #self.graphSage = SAGEConv(DL.get(101).num_node_features,1 ,root_weight = False, bias = False)\n",
    "        \n",
    "    def forward(self, x, edge_index):\n",
    "        print(edge_index.type())\n",
    "        x, edge_index = x, edge_index\n",
    "\n",
    "        x = self.lin1(x)\n",
    "        x = F.relu(x)\n",
    "        x = self.lin2(x)\n",
    "        #x = F.dropout(x, training=self.training)\n",
    "        x = self.graphSage(x, edge_index)\n",
    "\n",
    "        return x\n",
    "        #F.log_softmax(x, dim=1)"
   ]
  },
  {
   "cell_type": "code",
   "execution_count": 33,
   "id": "c4d87203",
   "metadata": {},
   "outputs": [],
   "source": [
    "model = GAE(GCN())"
   ]
  },
  {
   "cell_type": "code",
   "execution_count": null,
   "id": "3a78d0c8",
   "metadata": {},
   "outputs": [],
   "source": [
    "torch.save(model.state_dict(), '../models/GraphSage')"
   ]
  },
  {
   "cell_type": "code",
   "execution_count": null,
   "id": "39f8de26",
   "metadata": {},
   "outputs": [],
   "source": [
    "model = GAE(GCN())\n",
    "model.load_state_dict(torch.load( '../models/GCNTwoLayersGraphSage'))"
   ]
  },
  {
   "cell_type": "code",
   "execution_count": 34,
   "id": "a26d9558",
   "metadata": {},
   "outputs": [],
   "source": [
    "import torch.nn.functional as F"
   ]
  },
  {
   "cell_type": "code",
   "execution_count": 35,
   "id": "349225d5",
   "metadata": {},
   "outputs": [
    {
     "name": "stdout",
     "output_type": "stream",
     "text": [
      "torch.LongTensor\n",
      "tensor(1.3863, grad_fn=<AddBackward0>)\n",
      "torch.LongTensor\n",
      "Epoch: 001, AUC: 0.4647, AP: 0.4890\n",
      "torch.LongTensor\n",
      "tensor(1.3863, grad_fn=<AddBackward0>)\n",
      "torch.LongTensor\n",
      "Epoch: 002, AUC: 0.4647, AP: 0.4890\n",
      "torch.LongTensor\n",
      "tensor(1.3863, grad_fn=<AddBackward0>)\n",
      "torch.LongTensor\n",
      "Epoch: 003, AUC: 0.4647, AP: 0.4890\n",
      "torch.LongTensor\n",
      "tensor(1.3863, grad_fn=<AddBackward0>)\n",
      "torch.LongTensor\n",
      "Epoch: 004, AUC: 0.4647, AP: 0.4890\n",
      "torch.LongTensor\n",
      "tensor(1.3863, grad_fn=<AddBackward0>)\n",
      "torch.LongTensor\n",
      "Epoch: 005, AUC: 0.4647, AP: 0.4890\n",
      "torch.LongTensor\n",
      "tensor(1.3863, grad_fn=<AddBackward0>)\n",
      "torch.LongTensor\n",
      "Epoch: 006, AUC: 0.4647, AP: 0.4890\n",
      "torch.LongTensor\n",
      "tensor(1.3863, grad_fn=<AddBackward0>)\n",
      "torch.LongTensor\n",
      "Epoch: 007, AUC: 0.4647, AP: 0.4890\n",
      "torch.LongTensor\n",
      "tensor(1.3863, grad_fn=<AddBackward0>)\n",
      "torch.LongTensor\n",
      "Epoch: 008, AUC: 0.4647, AP: 0.4890\n",
      "torch.LongTensor\n",
      "tensor(1.3863, grad_fn=<AddBackward0>)\n",
      "torch.LongTensor\n",
      "Epoch: 009, AUC: 0.4647, AP: 0.4890\n",
      "torch.LongTensor\n",
      "tensor(1.3863, grad_fn=<AddBackward0>)\n",
      "torch.LongTensor\n",
      "Epoch: 010, AUC: 0.4647, AP: 0.4890\n",
      "torch.LongTensor\n",
      "tensor(1.3863, grad_fn=<AddBackward0>)\n",
      "torch.LongTensor\n",
      "Epoch: 011, AUC: 0.4647, AP: 0.4890\n",
      "torch.LongTensor\n",
      "tensor(1.3863, grad_fn=<AddBackward0>)\n",
      "torch.LongTensor\n",
      "Epoch: 012, AUC: 0.4647, AP: 0.4890\n",
      "torch.LongTensor\n",
      "tensor(1.3863, grad_fn=<AddBackward0>)\n",
      "torch.LongTensor\n",
      "Epoch: 013, AUC: 0.4647, AP: 0.4890\n",
      "torch.LongTensor\n",
      "tensor(1.3863, grad_fn=<AddBackward0>)\n",
      "torch.LongTensor\n",
      "Epoch: 014, AUC: 0.4647, AP: 0.4890\n",
      "torch.LongTensor\n",
      "tensor(1.3863, grad_fn=<AddBackward0>)\n",
      "torch.LongTensor\n",
      "Epoch: 015, AUC: 0.4647, AP: 0.4890\n",
      "torch.LongTensor\n",
      "tensor(1.3863, grad_fn=<AddBackward0>)\n",
      "torch.LongTensor\n",
      "Epoch: 016, AUC: 0.4647, AP: 0.4890\n",
      "torch.LongTensor\n",
      "tensor(1.3863, grad_fn=<AddBackward0>)\n",
      "torch.LongTensor\n",
      "Epoch: 017, AUC: 0.4647, AP: 0.4890\n",
      "torch.LongTensor\n",
      "tensor(1.3863, grad_fn=<AddBackward0>)\n",
      "torch.LongTensor\n",
      "Epoch: 018, AUC: 0.4647, AP: 0.4890\n",
      "torch.LongTensor\n",
      "tensor(1.3863, grad_fn=<AddBackward0>)\n",
      "torch.LongTensor\n",
      "Epoch: 019, AUC: 0.4647, AP: 0.4890\n",
      "torch.LongTensor\n",
      "tensor(1.3863, grad_fn=<AddBackward0>)\n",
      "torch.LongTensor\n",
      "Epoch: 020, AUC: 0.4647, AP: 0.4890\n",
      "torch.LongTensor\n",
      "tensor(1.3863, grad_fn=<AddBackward0>)\n",
      "torch.LongTensor\n",
      "Epoch: 021, AUC: 0.4647, AP: 0.4890\n",
      "torch.LongTensor\n",
      "tensor(1.3863, grad_fn=<AddBackward0>)\n",
      "torch.LongTensor\n",
      "Epoch: 022, AUC: 0.4647, AP: 0.4890\n",
      "torch.LongTensor\n",
      "tensor(1.3863, grad_fn=<AddBackward0>)\n",
      "torch.LongTensor\n",
      "Epoch: 023, AUC: 0.4647, AP: 0.4890\n",
      "torch.LongTensor\n",
      "tensor(1.3863, grad_fn=<AddBackward0>)\n",
      "torch.LongTensor\n",
      "Epoch: 024, AUC: 0.4647, AP: 0.4890\n",
      "torch.LongTensor\n",
      "tensor(1.3863, grad_fn=<AddBackward0>)\n",
      "torch.LongTensor\n",
      "Epoch: 025, AUC: 0.4647, AP: 0.4890\n",
      "torch.LongTensor\n",
      "tensor(1.3863, grad_fn=<AddBackward0>)\n",
      "torch.LongTensor\n",
      "Epoch: 026, AUC: 0.4647, AP: 0.4890\n",
      "torch.LongTensor\n",
      "tensor(1.3863, grad_fn=<AddBackward0>)\n",
      "torch.LongTensor\n",
      "Epoch: 027, AUC: 0.4647, AP: 0.4890\n",
      "torch.LongTensor\n",
      "tensor(1.3863, grad_fn=<AddBackward0>)\n",
      "torch.LongTensor\n",
      "Epoch: 028, AUC: 0.4647, AP: 0.4890\n",
      "torch.LongTensor\n",
      "tensor(1.3863, grad_fn=<AddBackward0>)\n",
      "torch.LongTensor\n",
      "Epoch: 029, AUC: 0.4647, AP: 0.4890\n",
      "torch.LongTensor\n",
      "tensor(1.3863, grad_fn=<AddBackward0>)\n",
      "torch.LongTensor\n",
      "Epoch: 030, AUC: 0.4647, AP: 0.4890\n",
      "torch.LongTensor\n",
      "tensor(1.3863, grad_fn=<AddBackward0>)\n",
      "torch.LongTensor\n",
      "Epoch: 031, AUC: 0.4647, AP: 0.4890\n",
      "torch.LongTensor\n",
      "tensor(1.3863, grad_fn=<AddBackward0>)\n",
      "torch.LongTensor\n",
      "Epoch: 032, AUC: 0.4647, AP: 0.4890\n",
      "torch.LongTensor\n",
      "tensor(1.3863, grad_fn=<AddBackward0>)\n",
      "torch.LongTensor\n",
      "Epoch: 033, AUC: 0.4647, AP: 0.4890\n",
      "torch.LongTensor\n",
      "tensor(1.3863, grad_fn=<AddBackward0>)\n",
      "torch.LongTensor\n",
      "Epoch: 034, AUC: 0.4647, AP: 0.4890\n",
      "torch.LongTensor\n",
      "tensor(1.3863, grad_fn=<AddBackward0>)\n",
      "torch.LongTensor\n",
      "Epoch: 035, AUC: 0.4647, AP: 0.4890\n",
      "torch.LongTensor\n",
      "tensor(1.3863, grad_fn=<AddBackward0>)\n",
      "torch.LongTensor\n",
      "Epoch: 036, AUC: 0.4647, AP: 0.4890\n",
      "torch.LongTensor\n",
      "tensor(1.3863, grad_fn=<AddBackward0>)\n",
      "torch.LongTensor\n",
      "Epoch: 037, AUC: 0.4647, AP: 0.4890\n",
      "torch.LongTensor\n",
      "tensor(1.3863, grad_fn=<AddBackward0>)\n",
      "torch.LongTensor\n",
      "Epoch: 038, AUC: 0.4647, AP: 0.4890\n",
      "torch.LongTensor\n",
      "tensor(1.3863, grad_fn=<AddBackward0>)\n",
      "torch.LongTensor\n",
      "Epoch: 039, AUC: 0.4647, AP: 0.4890\n",
      "torch.LongTensor\n",
      "tensor(1.3863, grad_fn=<AddBackward0>)\n",
      "torch.LongTensor\n",
      "Epoch: 040, AUC: 0.4647, AP: 0.4890\n",
      "torch.LongTensor\n",
      "tensor(1.3863, grad_fn=<AddBackward0>)\n",
      "torch.LongTensor\n",
      "Epoch: 041, AUC: 0.4647, AP: 0.4890\n",
      "torch.LongTensor\n",
      "tensor(1.3863, grad_fn=<AddBackward0>)\n",
      "torch.LongTensor\n",
      "Epoch: 042, AUC: 0.4647, AP: 0.4890\n",
      "torch.LongTensor\n",
      "tensor(1.3863, grad_fn=<AddBackward0>)\n",
      "torch.LongTensor\n",
      "Epoch: 043, AUC: 0.4647, AP: 0.4890\n",
      "torch.LongTensor\n",
      "tensor(1.3863, grad_fn=<AddBackward0>)\n",
      "torch.LongTensor\n",
      "Epoch: 044, AUC: 0.4647, AP: 0.4890\n",
      "torch.LongTensor\n",
      "tensor(1.3863, grad_fn=<AddBackward0>)\n",
      "torch.LongTensor\n",
      "Epoch: 045, AUC: 0.4647, AP: 0.4890\n",
      "torch.LongTensor\n",
      "tensor(1.3863, grad_fn=<AddBackward0>)\n",
      "torch.LongTensor\n",
      "Epoch: 046, AUC: 0.4647, AP: 0.4890\n",
      "torch.LongTensor\n",
      "tensor(1.3863, grad_fn=<AddBackward0>)\n",
      "torch.LongTensor\n",
      "Epoch: 047, AUC: 0.4647, AP: 0.4890\n",
      "torch.LongTensor\n",
      "tensor(1.3863, grad_fn=<AddBackward0>)\n",
      "torch.LongTensor\n",
      "Epoch: 048, AUC: 0.4647, AP: 0.4890\n",
      "torch.LongTensor\n",
      "tensor(1.3863, grad_fn=<AddBackward0>)\n",
      "torch.LongTensor\n",
      "Epoch: 049, AUC: 0.4647, AP: 0.4890\n",
      "torch.LongTensor\n",
      "tensor(1.3863, grad_fn=<AddBackward0>)\n",
      "torch.LongTensor\n",
      "Epoch: 050, AUC: 0.4647, AP: 0.4890\n",
      "torch.LongTensor\n",
      "tensor(1.3863, grad_fn=<AddBackward0>)\n",
      "torch.LongTensor\n",
      "Epoch: 051, AUC: 0.4647, AP: 0.4890\n",
      "torch.LongTensor\n",
      "tensor(1.3863, grad_fn=<AddBackward0>)\n",
      "torch.LongTensor\n",
      "Epoch: 052, AUC: 0.4647, AP: 0.4890\n",
      "torch.LongTensor\n",
      "tensor(1.3863, grad_fn=<AddBackward0>)\n",
      "torch.LongTensor\n",
      "Epoch: 053, AUC: 0.4647, AP: 0.4890\n",
      "torch.LongTensor\n",
      "tensor(1.3863, grad_fn=<AddBackward0>)\n",
      "torch.LongTensor\n",
      "Epoch: 054, AUC: 0.4647, AP: 0.4890\n",
      "torch.LongTensor\n",
      "tensor(1.3863, grad_fn=<AddBackward0>)\n",
      "torch.LongTensor\n",
      "Epoch: 055, AUC: 0.4647, AP: 0.4890\n",
      "torch.LongTensor\n",
      "tensor(1.3863, grad_fn=<AddBackward0>)\n",
      "torch.LongTensor\n",
      "Epoch: 056, AUC: 0.4647, AP: 0.4890\n",
      "torch.LongTensor\n",
      "tensor(1.3863, grad_fn=<AddBackward0>)\n",
      "torch.LongTensor\n",
      "Epoch: 057, AUC: 0.4647, AP: 0.4890\n",
      "torch.LongTensor\n",
      "tensor(1.3863, grad_fn=<AddBackward0>)\n",
      "torch.LongTensor\n",
      "Epoch: 058, AUC: 0.4647, AP: 0.4890\n",
      "torch.LongTensor\n",
      "tensor(1.3863, grad_fn=<AddBackward0>)\n",
      "torch.LongTensor\n",
      "Epoch: 059, AUC: 0.4647, AP: 0.4890\n",
      "torch.LongTensor\n",
      "tensor(1.3863, grad_fn=<AddBackward0>)\n",
      "torch.LongTensor\n",
      "Epoch: 060, AUC: 0.4647, AP: 0.4890\n",
      "torch.LongTensor\n",
      "tensor(1.3863, grad_fn=<AddBackward0>)\n",
      "torch.LongTensor\n",
      "Epoch: 061, AUC: 0.4647, AP: 0.4890\n",
      "torch.LongTensor\n",
      "tensor(1.3863, grad_fn=<AddBackward0>)\n",
      "torch.LongTensor\n",
      "Epoch: 062, AUC: 0.4647, AP: 0.4890\n",
      "torch.LongTensor\n",
      "tensor(1.3863, grad_fn=<AddBackward0>)\n",
      "torch.LongTensor\n",
      "Epoch: 063, AUC: 0.4647, AP: 0.4890\n",
      "torch.LongTensor\n",
      "tensor(1.3863, grad_fn=<AddBackward0>)\n",
      "torch.LongTensor\n",
      "Epoch: 064, AUC: 0.4647, AP: 0.4890\n",
      "torch.LongTensor\n",
      "tensor(1.3863, grad_fn=<AddBackward0>)\n",
      "torch.LongTensor\n",
      "Epoch: 065, AUC: 0.4647, AP: 0.4890\n",
      "torch.LongTensor\n",
      "tensor(1.3863, grad_fn=<AddBackward0>)\n",
      "torch.LongTensor\n",
      "Epoch: 066, AUC: 0.4647, AP: 0.4890\n",
      "torch.LongTensor\n",
      "tensor(1.3863, grad_fn=<AddBackward0>)\n",
      "torch.LongTensor\n",
      "Epoch: 067, AUC: 0.4647, AP: 0.4890\n",
      "torch.LongTensor\n",
      "tensor(1.3863, grad_fn=<AddBackward0>)\n",
      "torch.LongTensor\n",
      "Epoch: 068, AUC: 0.4647, AP: 0.4890\n",
      "torch.LongTensor\n",
      "tensor(1.3863, grad_fn=<AddBackward0>)\n",
      "torch.LongTensor\n",
      "Epoch: 069, AUC: 0.4647, AP: 0.4890\n",
      "torch.LongTensor\n",
      "tensor(1.3863, grad_fn=<AddBackward0>)\n",
      "torch.LongTensor\n",
      "Epoch: 070, AUC: 0.4647, AP: 0.4890\n",
      "torch.LongTensor\n",
      "tensor(1.3863, grad_fn=<AddBackward0>)\n",
      "torch.LongTensor\n",
      "Epoch: 071, AUC: 0.4647, AP: 0.4890\n",
      "torch.LongTensor\n",
      "tensor(1.3863, grad_fn=<AddBackward0>)\n",
      "torch.LongTensor\n",
      "Epoch: 072, AUC: 0.4647, AP: 0.4890\n",
      "torch.LongTensor\n",
      "tensor(1.3863, grad_fn=<AddBackward0>)\n",
      "torch.LongTensor\n",
      "Epoch: 073, AUC: 0.4647, AP: 0.4890\n",
      "torch.LongTensor\n",
      "tensor(1.3863, grad_fn=<AddBackward0>)\n",
      "torch.LongTensor\n",
      "Epoch: 074, AUC: 0.4647, AP: 0.4890\n",
      "torch.LongTensor\n",
      "tensor(1.3863, grad_fn=<AddBackward0>)\n",
      "torch.LongTensor\n",
      "Epoch: 075, AUC: 0.4647, AP: 0.4890\n",
      "torch.LongTensor\n",
      "tensor(1.3863, grad_fn=<AddBackward0>)\n",
      "torch.LongTensor\n",
      "Epoch: 076, AUC: 0.4647, AP: 0.4890\n",
      "torch.LongTensor\n",
      "tensor(1.3863, grad_fn=<AddBackward0>)\n",
      "torch.LongTensor\n"
     ]
    },
    {
     "name": "stdout",
     "output_type": "stream",
     "text": [
      "Epoch: 077, AUC: 0.4647, AP: 0.4890\n",
      "torch.LongTensor\n",
      "tensor(1.3863, grad_fn=<AddBackward0>)\n",
      "torch.LongTensor\n",
      "Epoch: 078, AUC: 0.4647, AP: 0.4890\n",
      "torch.LongTensor\n",
      "tensor(1.3863, grad_fn=<AddBackward0>)\n",
      "torch.LongTensor\n",
      "Epoch: 079, AUC: 0.4647, AP: 0.4890\n",
      "torch.LongTensor\n",
      "tensor(1.3863, grad_fn=<AddBackward0>)\n",
      "torch.LongTensor\n",
      "Epoch: 080, AUC: 0.4647, AP: 0.4890\n",
      "torch.LongTensor\n",
      "tensor(1.3863, grad_fn=<AddBackward0>)\n",
      "torch.LongTensor\n",
      "Epoch: 081, AUC: 0.4647, AP: 0.4890\n",
      "torch.LongTensor\n",
      "tensor(1.3863, grad_fn=<AddBackward0>)\n",
      "torch.LongTensor\n",
      "Epoch: 082, AUC: 0.4647, AP: 0.4890\n",
      "torch.LongTensor\n",
      "tensor(1.3863, grad_fn=<AddBackward0>)\n",
      "torch.LongTensor\n",
      "Epoch: 083, AUC: 0.4647, AP: 0.4890\n",
      "torch.LongTensor\n",
      "tensor(1.3863, grad_fn=<AddBackward0>)\n",
      "torch.LongTensor\n",
      "Epoch: 084, AUC: 0.4647, AP: 0.4890\n",
      "torch.LongTensor\n",
      "tensor(1.3863, grad_fn=<AddBackward0>)\n",
      "torch.LongTensor\n",
      "Epoch: 085, AUC: 0.4647, AP: 0.4890\n",
      "torch.LongTensor\n",
      "tensor(1.3863, grad_fn=<AddBackward0>)\n",
      "torch.LongTensor\n",
      "Epoch: 086, AUC: 0.4647, AP: 0.4890\n",
      "torch.LongTensor\n",
      "tensor(1.3863, grad_fn=<AddBackward0>)\n",
      "torch.LongTensor\n",
      "Epoch: 087, AUC: 0.4647, AP: 0.4890\n",
      "torch.LongTensor\n",
      "tensor(1.3863, grad_fn=<AddBackward0>)\n",
      "torch.LongTensor\n",
      "Epoch: 088, AUC: 0.4647, AP: 0.4890\n",
      "torch.LongTensor\n",
      "tensor(1.3863, grad_fn=<AddBackward0>)\n",
      "torch.LongTensor\n",
      "Epoch: 089, AUC: 0.4647, AP: 0.4890\n",
      "torch.LongTensor\n",
      "tensor(1.3863, grad_fn=<AddBackward0>)\n",
      "torch.LongTensor\n",
      "Epoch: 090, AUC: 0.4647, AP: 0.4890\n",
      "torch.LongTensor\n",
      "tensor(1.3863, grad_fn=<AddBackward0>)\n",
      "torch.LongTensor\n",
      "Epoch: 091, AUC: 0.4647, AP: 0.4890\n",
      "torch.LongTensor\n",
      "tensor(1.3863, grad_fn=<AddBackward0>)\n",
      "torch.LongTensor\n",
      "Epoch: 092, AUC: 0.4647, AP: 0.4890\n",
      "torch.LongTensor\n",
      "tensor(1.3863, grad_fn=<AddBackward0>)\n",
      "torch.LongTensor\n",
      "Epoch: 093, AUC: 0.4647, AP: 0.4890\n",
      "torch.LongTensor\n",
      "tensor(1.3863, grad_fn=<AddBackward0>)\n",
      "torch.LongTensor\n",
      "Epoch: 094, AUC: 0.4647, AP: 0.4890\n",
      "torch.LongTensor\n",
      "tensor(1.3863, grad_fn=<AddBackward0>)\n",
      "torch.LongTensor\n",
      "Epoch: 095, AUC: 0.4647, AP: 0.4890\n",
      "torch.LongTensor\n",
      "tensor(1.3863, grad_fn=<AddBackward0>)\n",
      "torch.LongTensor\n",
      "Epoch: 096, AUC: 0.4647, AP: 0.4890\n",
      "torch.LongTensor\n",
      "tensor(1.3863, grad_fn=<AddBackward0>)\n",
      "torch.LongTensor\n",
      "Epoch: 097, AUC: 0.4647, AP: 0.4890\n",
      "torch.LongTensor\n",
      "tensor(1.3863, grad_fn=<AddBackward0>)\n",
      "torch.LongTensor\n",
      "Epoch: 098, AUC: 0.4647, AP: 0.4890\n",
      "torch.LongTensor\n",
      "tensor(1.3863, grad_fn=<AddBackward0>)\n",
      "torch.LongTensor\n",
      "Epoch: 099, AUC: 0.4647, AP: 0.4890\n",
      "torch.LongTensor\n",
      "tensor(1.3863, grad_fn=<AddBackward0>)\n",
      "torch.LongTensor\n",
      "Epoch: 100, AUC: 0.4647, AP: 0.4890\n"
     ]
    }
   ],
   "source": [
    "for epoch in range(1, 101):\n",
    "    loss = train()\n",
    "\n",
    "    auc, ap = test(data.test_pos_edge_index, data.test_neg_edge_index)\n",
    "    print('Epoch: {:03d}, AUC: {:.4f}, AP: {:.4f}'.format(epoch, auc, ap))"
   ]
  },
  {
   "cell_type": "code",
   "execution_count": 44,
   "id": "a3d08227",
   "metadata": {},
   "outputs": [],
   "source": [
    "Z = GAESage.encode(graph.x, train_pos_edge_index)"
   ]
  },
  {
   "cell_type": "code",
   "execution_count": 45,
   "id": "0baf643c",
   "metadata": {},
   "outputs": [],
   "source": [
    "Z = Z.detach().numpy()"
   ]
  },
  {
   "cell_type": "code",
   "execution_count": 46,
   "id": "0e04217c",
   "metadata": {},
   "outputs": [
    {
     "data": {
      "text/plain": [
       "array([[-0.16730715, -0.13052352],\n",
       "       [-0.16014762, -0.12493806],\n",
       "       [-0.19594532, -0.1528654 ],\n",
       "       [-0.19379207, -0.15118556],\n",
       "       [-0.15072717, -0.11758876],\n",
       "       [-0.18212867, -0.14208643],\n",
       "       [-0.17484352, -0.13640296],\n",
       "       [-0.18275668, -0.14257637],\n",
       "       [-0.18935098, -0.14772086],\n",
       "       [-0.20132843, -0.15706499],\n",
       "       [-0.17208019, -0.13424717],\n",
       "       [-0.14250568, -0.11117482],\n",
       "       [-0.19809856, -0.15454522],\n",
       "       [-0.18840896, -0.14698595],\n",
       "       [-0.21101803, -0.16462426],\n",
       "       [-0.20096955, -0.156785  ],\n",
       "       [-0.17333624, -0.13522707],\n",
       "       [-0.18746692, -0.14625102],\n",
       "       [-0.1808726 , -0.14110652],\n",
       "       [-0.2040614 , -0.15919709],\n",
       "       [-0.1997135 , -0.15580511],\n",
       "       [-0.19379206, -0.15118554],\n",
       "       [-0.19702196, -0.15370531],\n",
       "       [-0.20724984, -0.16168453],\n",
       "       [-0.20671156, -0.1612646 ],\n",
       "       [-0.15742613, -0.12281492],\n",
       "       [-0.1808726 , -0.14110652],\n",
       "       [-0.21101803, -0.16462426],\n",
       "       [-0.14737767, -0.11497568],\n",
       "       [-0.13753854, -0.10729975],\n",
       "       [-0.13188627, -0.10289016],\n",
       "       [-0.1281181 , -0.09995045],\n",
       "       [-0.21101803, -0.16462426],\n",
       "       [-0.1537417 , -0.11994053],\n",
       "       [-0.16795312, -0.13102747],\n",
       "       [-0.18464077, -0.14404622],\n",
       "       [-0.12623401, -0.09848059],\n",
       "       [-0.15503366, -0.12094845],\n",
       "       [-0.20348166, -0.15874481],\n",
       "       [-0.16077563, -0.125428  ],\n",
       "       [-0.16328777, -0.12738784],\n",
       "       [-0.12560597, -0.09799063],\n",
       "       [-0.14193475, -0.11072943],\n",
       "       [-0.13314234, -0.10387008],\n",
       "       [-0.138669  , -0.10818166],\n",
       "       [-0.16149339, -0.12598796],\n",
       "       [-0.14570293, -0.11366913],\n",
       "       [-0.14821506, -0.11562895],\n",
       "       [-0.13996093, -0.10918956],\n",
       "       [-0.2059938 , -0.16070464],\n",
       "       [-0.1808726 , -0.14110652],\n",
       "       [-0.13942263, -0.1087696 ],\n",
       "       [-0.11053325, -0.08623175],\n",
       "       [-0.12058173, -0.09407101],\n",
       "       [-0.17333624, -0.13522707],\n",
       "       [-0.1378077 , -0.10750973],\n",
       "       [-0.14695898, -0.11464904],\n",
       "       [-0.17710441, -0.13816679],\n",
       "       [-0.12309386, -0.09603082],\n",
       "       [-0.20096956, -0.15678503],\n",
       "       [-0.17584836, -0.13718688],\n",
       "       [-0.15934014, -0.12430812],\n",
       "       [-0.18275668, -0.14257637],\n",
       "       [-0.14737767, -0.11497568],\n",
       "       [-0.11681356, -0.09113128],\n",
       "       [-0.11555749, -0.09015138],\n",
       "       [-0.1557514 , -0.12150838],\n",
       "       [-0.17584836, -0.13718688],\n",
       "       [-0.14695898, -0.11464904],\n",
       "       [-0.07913177, -0.0617341 ],\n",
       "       [-0.14469808, -0.11288521],\n",
       "       [-0.16956806, -0.13228735],\n",
       "       [-0.15637945, -0.12199834],\n",
       "       [-0.16579989, -0.12934764],\n",
       "       [-0.17950235, -0.14003752],\n",
       "       [-0.19594532, -0.1528654 ],\n",
       "       [-0.16149339, -0.12598796],\n",
       "       [-0.1828823 , -0.14267437],\n",
       "       [-0.1557514 , -0.12150839],\n",
       "       [-0.1851791 , -0.14446619],\n",
       "       [-0.1620317 , -0.1264079 ],\n",
       "       [-0.14168355, -0.11053344],\n",
       "       [-0.18690169, -0.14581005],\n",
       "       [-0.1557514 , -0.12150838],\n",
       "       [-0.1557514 , -0.12150838],\n",
       "       [-0.15261126, -0.11905862],\n",
       "       [-0.15826353, -0.1234682 ],\n",
       "       [-0.14168353, -0.11053343],\n",
       "       [-0.1431908 , -0.11170932],\n",
       "       [-0.13230495, -0.1032168 ],\n",
       "       [-0.14067869, -0.10974951],\n",
       "       [-0.16991062, -0.1325546 ],\n",
       "       [-0.15261127, -0.11905862],\n",
       "       [-0.13291396, -0.10369191],\n",
       "       [-0.16579987, -0.12934762],\n",
       "       [-0.15288042, -0.1192686 ],\n",
       "       [-0.18087263, -0.14110653],\n",
       "       [-0.18087259, -0.1411065 ],\n",
       "       [-0.14168355, -0.11053344],\n",
       "       [-0.16579989, -0.12934764]], dtype=float32)"
      ]
     },
     "execution_count": 46,
     "metadata": {},
     "output_type": "execute_result"
    }
   ],
   "source": [
    "Z"
   ]
  },
  {
   "cell_type": "code",
   "execution_count": 47,
   "id": "c743401d",
   "metadata": {},
   "outputs": [
    {
     "data": {
      "image/png": "[encoded data removed]",
      "text/plain": [
       "<Figure size 432x288 with 1 Axes>"
      ]
     },
     "metadata": {
      "needs_background": "light"
     },
     "output_type": "display_data"
    }
   ],
   "source": [
    "x = Z[:,0]\n",
    "y = Z[:,1]\n",
    "colors = graph.block\n",
    "\n",
    "plt.scatter(x, y, c=colors, cmap='viridis')\n",
    "\n",
    "plt.show() "
   ]
  },
  {
   "cell_type": "code",
   "execution_count": null,
   "id": "b29051dd",
   "metadata": {},
   "outputs": [],
   "source": []
  }
 ],
 "metadata": {
  "kernelspec": {
   "display_name": "Python 3",
   "language": "python",
   "name": "python3"
  },
  "language_info": {
   "codemirror_mode": {
    "name": "ipython",
    "version": 3
   },
   "file_extension": ".py",
   "mimetype": "text/x-python",
   "name": "python",
   "nbconvert_exporter": "python",
   "pygments_lexer": "ipython3",
   "version": "3.8.12"
  }
 },
 "nbformat": 4,
 "nbformat_minor": 5
}
